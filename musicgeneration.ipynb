{
 "cells": [
  {
   "cell_type": "markdown",
   "id": "252f7c22",
   "metadata": {
    "papermill": {
     "duration": 0.026155,
     "end_time": "2021-10-26T08:08:08.719666",
     "exception": false,
     "start_time": "2021-10-26T08:08:08.693511",
     "status": "completed"
    },
    "tags": []
   },
   "source": [
    "Importing Libraries."
   ]
  },
  {
   "cell_type": "code",
   "execution_count": 1,
   "id": "b9f9db37",
   "metadata": {
    "execution": {
     "iopub.execute_input": "2021-10-26T08:08:08.782335Z",
     "iopub.status.busy": "2021-10-26T08:08:08.781324Z",
     "iopub.status.idle": "2021-10-26T08:08:08.938145Z",
     "shell.execute_reply": "2021-10-26T08:08:08.936453Z",
     "shell.execute_reply.started": "2021-10-26T07:45:21.303107Z"
    },
    "papermill": {
     "duration": 0.190697,
     "end_time": "2021-10-26T08:08:08.938424",
     "exception": false,
     "start_time": "2021-10-26T08:08:08.747727",
     "status": "completed"
    },
    "tags": []
   },
   "outputs": [
    {
     "name": "stdout",
     "output_type": "stream",
     "text": [
      "/kaggle/input/musicgeneratedlstm/Melody_Snippet_Cleaned.wav\n",
      "/kaggle/input/musicgeneratedlstm/Melody_Generated 2.wav\n",
      "/kaggle/input/musicgeneratedlstm/Melody_Generated_1.wav\n",
      "/kaggle/input/musicgeneratedlstm/Corpus_Snippet.wav\n",
      "/kaggle/input/classical-music-midi/brahms/br_im2.mid\n",
      "/kaggle/input/classical-music-midi/brahms/br_im5.mid\n",
      "/kaggle/input/classical-music-midi/brahms/BR_IM6.MID\n",
      "/kaggle/input/classical-music-midi/brahms/brahms_opus1_4.mid\n",
      "/kaggle/input/classical-music-midi/brahms/brahms_opus117_2.mid\n",
      "/kaggle/input/classical-music-midi/brahms/brahms_opus1_2.mid\n",
      "/kaggle/input/classical-music-midi/brahms/brahms_opus1_1.mid\n",
      "/kaggle/input/classical-music-midi/brahms/brahms_opus1_3.mid\n",
      "/kaggle/input/classical-music-midi/brahms/br_rhap.mid\n",
      "/kaggle/input/classical-music-midi/brahms/brahms_opus117_1.mid\n",
      "/kaggle/input/classical-music-midi/granados/gra_esp_4.mid\n",
      "/kaggle/input/classical-music-midi/granados/gra_esp_2.mid\n",
      "/kaggle/input/classical-music-midi/granados/gra_esp_3.mid\n",
      "/kaggle/input/classical-music-midi/debussy/debussy_cc_2.mid\n",
      "/kaggle/input/classical-music-midi/debussy/debussy_cc_1.mid\n",
      "/kaggle/input/classical-music-midi/debussy/DEB_CLAI.MID\n",
      "/kaggle/input/classical-music-midi/debussy/debussy_cc_3.mid\n",
      "/kaggle/input/classical-music-midi/debussy/debussy_cc_4.mid\n",
      "/kaggle/input/classical-music-midi/debussy/DEB_PASS.MID\n",
      "/kaggle/input/classical-music-midi/debussy/deb_menu.mid\n",
      "/kaggle/input/classical-music-midi/debussy/deb_prel.mid\n",
      "/kaggle/input/classical-music-midi/debussy/debussy_cc_6.mid\n",
      "/kaggle/input/classical-music-midi/tschai/ty_februar.mid\n",
      "/kaggle/input/classical-music-midi/tschai/ty_april.mid\n",
      "/kaggle/input/classical-music-midi/tschai/ty_maerz.mid\n",
      "/kaggle/input/classical-music-midi/tschai/ty_mai.mid\n",
      "/kaggle/input/classical-music-midi/tschai/ty_juli.mid\n",
      "/kaggle/input/classical-music-midi/tschai/ty_juni.mid\n",
      "/kaggle/input/classical-music-midi/tschai/ty_januar.mid\n",
      "/kaggle/input/classical-music-midi/tschai/ty_september.mid\n",
      "/kaggle/input/classical-music-midi/tschai/ty_november.mid\n",
      "/kaggle/input/classical-music-midi/tschai/ty_oktober.mid\n",
      "/kaggle/input/classical-music-midi/tschai/ty_dezember.mid\n",
      "/kaggle/input/classical-music-midi/tschai/ty_august.mid\n",
      "/kaggle/input/classical-music-midi/muss/muss_8.mid\n",
      "/kaggle/input/classical-music-midi/muss/muss_7.mid\n",
      "/kaggle/input/classical-music-midi/muss/muss_4.mid\n",
      "/kaggle/input/classical-music-midi/muss/muss_5.mid\n",
      "/kaggle/input/classical-music-midi/muss/muss_6.mid\n",
      "/kaggle/input/classical-music-midi/muss/muss_2.mid\n",
      "/kaggle/input/classical-music-midi/muss/muss_3.mid\n",
      "/kaggle/input/classical-music-midi/muss/muss_1.mid\n",
      "/kaggle/input/classical-music-midi/haydn/hay_40_1.mid\n",
      "/kaggle/input/classical-music-midi/haydn/hay_40_2.mid\n",
      "/kaggle/input/classical-music-midi/haydn/haydn_9_3.mid\n",
      "/kaggle/input/classical-music-midi/haydn/haydn_35_1.mid\n",
      "/kaggle/input/classical-music-midi/haydn/haydn_7_3.mid\n",
      "/kaggle/input/classical-music-midi/haydn/haydn_33_3.mid\n",
      "/kaggle/input/classical-music-midi/haydn/haydn_43_3.mid\n",
      "/kaggle/input/classical-music-midi/haydn/haydn_43_2.mid\n",
      "/kaggle/input/classical-music-midi/haydn/haydn_35_3.mid\n",
      "/kaggle/input/classical-music-midi/haydn/haydn_8_4.mid\n",
      "/kaggle/input/classical-music-midi/haydn/haydn_8_3.mid\n",
      "/kaggle/input/classical-music-midi/haydn/haydn_7_1.mid\n",
      "/kaggle/input/classical-music-midi/haydn/haydn_9_1.mid\n",
      "/kaggle/input/classical-music-midi/haydn/haydn_8_2.mid\n",
      "/kaggle/input/classical-music-midi/haydn/haydn_43_1.mid\n",
      "/kaggle/input/classical-music-midi/haydn/haydn_33_2.mid\n",
      "/kaggle/input/classical-music-midi/haydn/haydn_35_2.mid\n",
      "/kaggle/input/classical-music-midi/haydn/haydn_7_2.mid\n",
      "/kaggle/input/classical-music-midi/haydn/haydn_9_2.mid\n",
      "/kaggle/input/classical-music-midi/haydn/haydn_33_1.mid\n",
      "/kaggle/input/classical-music-midi/haydn/haydn_8_1.mid\n",
      "/kaggle/input/classical-music-midi/balakir/islamei.mid\n",
      "/kaggle/input/classical-music-midi/bach/bach_847.mid\n",
      "/kaggle/input/classical-music-midi/bach/bach_850.mid\n",
      "/kaggle/input/classical-music-midi/bach/bach_846.mid\n",
      "/kaggle/input/classical-music-midi/beeth/beethoven_opus22_3.mid\n",
      "/kaggle/input/classical-music-midi/beeth/pathetique_1.mid\n",
      "/kaggle/input/classical-music-midi/beeth/beethoven_opus22_2.mid\n",
      "/kaggle/input/classical-music-midi/beeth/waldstein_2.mid\n",
      "/kaggle/input/classical-music-midi/beeth/beethoven_opus22_4.mid\n",
      "/kaggle/input/classical-music-midi/beeth/beethoven_hammerklavier_4.mid\n",
      "/kaggle/input/classical-music-midi/beeth/mond_3.mid\n",
      "/kaggle/input/classical-music-midi/beeth/appass_1.mid\n",
      "/kaggle/input/classical-music-midi/beeth/elise.mid\n",
      "/kaggle/input/classical-music-midi/beeth/appass_3.mid\n",
      "/kaggle/input/classical-music-midi/beeth/pathetique_2.mid\n",
      "/kaggle/input/classical-music-midi/beeth/beethoven_opus90_1.mid\n",
      "/kaggle/input/classical-music-midi/beeth/beethoven_hammerklavier_2.mid\n",
      "/kaggle/input/classical-music-midi/beeth/beethoven_hammerklavier_3.mid\n",
      "/kaggle/input/classical-music-midi/beeth/beethoven_hammerklavier_1.mid\n",
      "/kaggle/input/classical-music-midi/beeth/beethoven_les_adieux_3.mid\n",
      "/kaggle/input/classical-music-midi/beeth/beethoven_opus90_2.mid\n",
      "/kaggle/input/classical-music-midi/beeth/waldstein_1.mid\n",
      "/kaggle/input/classical-music-midi/beeth/waldstein_3.mid\n",
      "/kaggle/input/classical-music-midi/beeth/beethoven_les_adieux_2.mid\n",
      "/kaggle/input/classical-music-midi/beeth/beethoven_les_adieux_1.mid\n",
      "/kaggle/input/classical-music-midi/beeth/appass_2.mid\n",
      "/kaggle/input/classical-music-midi/beeth/mond_1.mid\n",
      "/kaggle/input/classical-music-midi/beeth/mond_2.mid\n",
      "/kaggle/input/classical-music-midi/beeth/beethoven_opus10_3.mid\n",
      "/kaggle/input/classical-music-midi/beeth/beethoven_opus10_2.mid\n",
      "/kaggle/input/classical-music-midi/beeth/beethoven_opus10_1.mid\n",
      "/kaggle/input/classical-music-midi/beeth/beethoven_opus22_1.mid\n",
      "/kaggle/input/classical-music-midi/beeth/pathetique_3.mid\n",
      "/kaggle/input/classical-music-midi/grieg/grieg_walzer.mid\n",
      "/kaggle/input/classical-music-midi/grieg/grieg_kobold.mid\n",
      "/kaggle/input/classical-music-midi/grieg/grieg_waechter.mid\n",
      "/kaggle/input/classical-music-midi/grieg/grieg_wedding.mid\n",
      "/kaggle/input/classical-music-midi/grieg/grieg_halling.mid\n",
      "/kaggle/input/classical-music-midi/grieg/grieg_brooklet.mid\n",
      "/kaggle/input/classical-music-midi/grieg/grieg_once_upon_a_time.mid\n",
      "/kaggle/input/classical-music-midi/grieg/grieg_march.mid\n",
      "/kaggle/input/classical-music-midi/grieg/grieg_elfentanz.mid\n",
      "/kaggle/input/classical-music-midi/grieg/grieg_spring.mid\n",
      "/kaggle/input/classical-music-midi/grieg/grieg_berceuse.mid\n",
      "/kaggle/input/classical-music-midi/grieg/grieg_album.mid\n",
      "/kaggle/input/classical-music-midi/grieg/grieg_voeglein.mid\n",
      "/kaggle/input/classical-music-midi/grieg/grieg_wanderer.mid\n",
      "/kaggle/input/classical-music-midi/grieg/grieg_butterfly.mid\n",
      "/kaggle/input/classical-music-midi/grieg/grieg_zwerge.mid\n",
      "/kaggle/input/classical-music-midi/mozart/mz_330_2.mid\n",
      "/kaggle/input/classical-music-midi/mozart/mz_311_3.mid\n",
      "/kaggle/input/classical-music-midi/mozart/mz_545_3.mid\n",
      "/kaggle/input/classical-music-midi/mozart/mz_332_3.mid\n",
      "/kaggle/input/classical-music-midi/mozart/mz_570_2.mid\n",
      "/kaggle/input/classical-music-midi/mozart/mz_333_3.mid\n",
      "/kaggle/input/classical-music-midi/mozart/mz_311_2.mid\n",
      "/kaggle/input/classical-music-midi/mozart/mz_331_3.mid\n",
      "/kaggle/input/classical-music-midi/mozart/mz_330_1.mid\n",
      "/kaggle/input/classical-music-midi/mozart/mz_570_1.mid\n",
      "/kaggle/input/classical-music-midi/mozart/mz_311_1.mid\n",
      "/kaggle/input/classical-music-midi/mozart/mz_570_3.mid\n",
      "/kaggle/input/classical-music-midi/mozart/mz_545_2.mid\n",
      "/kaggle/input/classical-music-midi/mozart/mz_332_2.mid\n",
      "/kaggle/input/classical-music-midi/mozart/mz_330_3.mid\n",
      "/kaggle/input/classical-music-midi/mozart/mz_333_2.mid\n",
      "/kaggle/input/classical-music-midi/mozart/mz_545_1.mid\n",
      "/kaggle/input/classical-music-midi/mozart/mz_332_1.mid\n",
      "/kaggle/input/classical-music-midi/mozart/mz_333_1.mid\n",
      "/kaggle/input/classical-music-midi/mozart/mz_331_2.mid\n",
      "/kaggle/input/classical-music-midi/mozart/mz_331_1.mid\n",
      "/kaggle/input/classical-music-midi/borodin/bor_ps5.mid\n",
      "/kaggle/input/classical-music-midi/borodin/bor_ps6.mid\n",
      "/kaggle/input/classical-music-midi/borodin/bor_ps2.mid\n",
      "/kaggle/input/classical-music-midi/borodin/bor_ps1.mid\n",
      "/kaggle/input/classical-music-midi/borodin/bor_ps4.mid\n",
      "/kaggle/input/classical-music-midi/borodin/bor_ps7.mid\n",
      "/kaggle/input/classical-music-midi/borodin/bor_ps3.mid\n",
      "/kaggle/input/classical-music-midi/schubert/schub_d960_3.mid\n",
      "/kaggle/input/classical-music-midi/schubert/schumm-1.mid\n",
      "/kaggle/input/classical-music-midi/schubert/schubert_D935_1.mid\n",
      "/kaggle/input/classical-music-midi/schubert/schubert_D935_4.mid\n",
      "/kaggle/input/classical-music-midi/schubert/schumm-4.mid\n",
      "/kaggle/input/classical-music-midi/schubert/schumm-2.mid\n",
      "/kaggle/input/classical-music-midi/schubert/schubert_D850_4.mid\n",
      "/kaggle/input/classical-music-midi/schubert/schu_143_3.mid\n",
      "/kaggle/input/classical-music-midi/schubert/schubert_D935_3.mid\n",
      "/kaggle/input/classical-music-midi/schubert/schub_d960_1.mid\n",
      "/kaggle/input/classical-music-midi/schubert/schub_d760_4.mid\n",
      "/kaggle/input/classical-music-midi/schubert/schub_d760_1.mid\n",
      "/kaggle/input/classical-music-midi/schubert/schub_d960_2.mid\n",
      "/kaggle/input/classical-music-midi/schubert/schubert_D935_2.mid\n",
      "/kaggle/input/classical-music-midi/schubert/schub_d760_3.mid\n",
      "/kaggle/input/classical-music-midi/schubert/schumm-6.mid\n",
      "/kaggle/input/classical-music-midi/schubert/schub_d760_2.mid\n",
      "/kaggle/input/classical-music-midi/schubert/schubert_D850_3.mid\n",
      "/kaggle/input/classical-music-midi/schubert/schubert_D850_2.mid\n",
      "/kaggle/input/classical-music-midi/schubert/schu_143_1.mid\n",
      "/kaggle/input/classical-music-midi/schubert/schumm-3.mid\n",
      "/kaggle/input/classical-music-midi/schubert/schuim-1.mid\n",
      "/kaggle/input/classical-music-midi/schubert/schubert_D850_1.mid\n",
      "/kaggle/input/classical-music-midi/schubert/schub_d960_4.mid\n",
      "/kaggle/input/classical-music-midi/schubert/schuim-3.mid\n",
      "/kaggle/input/classical-music-midi/schubert/schu_143_2.mid\n",
      "/kaggle/input/classical-music-midi/schubert/schuim-2.mid\n",
      "/kaggle/input/classical-music-midi/schubert/schumm-5.mid\n",
      "/kaggle/input/classical-music-midi/schubert/schuim-4.mid\n",
      "/kaggle/input/classical-music-midi/burgm/burg_geschwindigkeit.mid\n",
      "/kaggle/input/classical-music-midi/burgm/burg_agitato.mid\n",
      "/kaggle/input/classical-music-midi/burgm/burg_trennung.mid\n",
      "/kaggle/input/classical-music-midi/burgm/burg_gewitter.mid\n",
      "/kaggle/input/classical-music-midi/burgm/burg_perlen.mid\n",
      "/kaggle/input/classical-music-midi/burgm/burg_spinnerlied.mid\n",
      "/kaggle/input/classical-music-midi/burgm/burg_erwachen.mid\n",
      "/kaggle/input/classical-music-midi/burgm/burg_sylphen.mid\n",
      "/kaggle/input/classical-music-midi/burgm/burg_quelle.mid\n",
      "/kaggle/input/classical-music-midi/schumann/scn16_6.mid\n",
      "/kaggle/input/classical-music-midi/schumann/scn16_7.mid\n",
      "/kaggle/input/classical-music-midi/schumann/scn16_3.mid\n",
      "/kaggle/input/classical-music-midi/schumann/scn15_13.mid\n",
      "/kaggle/input/classical-music-midi/schumann/scn15_9.mid\n",
      "/kaggle/input/classical-music-midi/schumann/scn16_4.mid\n",
      "/kaggle/input/classical-music-midi/schumann/scn15_6.mid\n",
      "/kaggle/input/classical-music-midi/schumann/scn15_2.mid\n",
      "/kaggle/input/classical-music-midi/schumann/scn15_5.mid\n",
      "/kaggle/input/classical-music-midi/schumann/scn68_12.mid\n",
      "/kaggle/input/classical-music-midi/schumann/scn15_8.mid\n",
      "/kaggle/input/classical-music-midi/schumann/scn16_2.mid\n",
      "/kaggle/input/classical-music-midi/schumann/scn16_1.mid\n",
      "/kaggle/input/classical-music-midi/schumann/scn16_8.mid\n",
      "/kaggle/input/classical-music-midi/schumann/scn15_10.mid\n",
      "/kaggle/input/classical-music-midi/schumann/schum_abegg.mid\n",
      "/kaggle/input/classical-music-midi/schumann/scn15_4.mid\n",
      "/kaggle/input/classical-music-midi/schumann/scn15_1.mid\n",
      "/kaggle/input/classical-music-midi/schumann/scn16_5.mid\n",
      "/kaggle/input/classical-music-midi/schumann/scn15_7.mid\n",
      "/kaggle/input/classical-music-midi/schumann/scn15_11.mid\n",
      "/kaggle/input/classical-music-midi/schumann/scn68_10.mid\n",
      "/kaggle/input/classical-music-midi/schumann/scn15_3.mid\n",
      "/kaggle/input/classical-music-midi/schumann/scn15_12.mid\n",
      "/kaggle/input/classical-music-midi/albeniz/alb_se2.mid\n",
      "/kaggle/input/classical-music-midi/albeniz/alb_se6.mid\n",
      "/kaggle/input/classical-music-midi/albeniz/alb_se4.mid\n",
      "/kaggle/input/classical-music-midi/albeniz/alb_se1.mid\n",
      "/kaggle/input/classical-music-midi/albeniz/alb_esp2.mid\n",
      "/kaggle/input/classical-music-midi/albeniz/alb_se7.mid\n",
      "/kaggle/input/classical-music-midi/albeniz/alb_esp4.mid\n",
      "/kaggle/input/classical-music-midi/albeniz/alb_esp1.mid\n",
      "/kaggle/input/classical-music-midi/albeniz/alb_se3.mid\n",
      "/kaggle/input/classical-music-midi/albeniz/alb_esp5.mid\n",
      "/kaggle/input/classical-music-midi/albeniz/alb_se5.mid\n",
      "/kaggle/input/classical-music-midi/albeniz/alb_esp3.mid\n",
      "/kaggle/input/classical-music-midi/albeniz/alb_se8.mid\n",
      "/kaggle/input/classical-music-midi/albeniz/alb_esp6.mid\n",
      "/kaggle/input/classical-music-midi/mendelssohn/mendel_op19_5.mid\n",
      "/kaggle/input/classical-music-midi/mendelssohn/mendel_op30_2.mid\n",
      "/kaggle/input/classical-music-midi/mendelssohn/mendel_op62_3.mid\n",
      "/kaggle/input/classical-music-midi/mendelssohn/mendel_op19_6.mid\n",
      "/kaggle/input/classical-music-midi/mendelssohn/mendel_op62_4.mid\n",
      "/kaggle/input/classical-music-midi/mendelssohn/mendel_op30_1.mid\n",
      "/kaggle/input/classical-music-midi/mendelssohn/mendel_op62_5.mid\n",
      "/kaggle/input/classical-music-midi/mendelssohn/mendel_op30_4.mid\n",
      "/kaggle/input/classical-music-midi/mendelssohn/mendel_op19_4.mid\n",
      "/kaggle/input/classical-music-midi/mendelssohn/mendel_op19_3.mid\n",
      "/kaggle/input/classical-music-midi/mendelssohn/mendel_op30_5.mid\n",
      "/kaggle/input/classical-music-midi/mendelssohn/mendel_op19_2.mid\n",
      "/kaggle/input/classical-music-midi/mendelssohn/mendel_op19_1.mid\n",
      "/kaggle/input/classical-music-midi/mendelssohn/mendel_op30_3.mid\n",
      "/kaggle/input/classical-music-midi/mendelssohn/mendel_op53_5.mid\n",
      "/kaggle/input/classical-music-midi/chopin/chpn-p13.mid\n",
      "/kaggle/input/classical-music-midi/chopin/chpn_op66.mid\n",
      "/kaggle/input/classical-music-midi/chopin/chpn_op35_1.mid\n",
      "/kaggle/input/classical-music-midi/chopin/chpn-p10.mid\n",
      "/kaggle/input/classical-music-midi/chopin/chpn_op23.mid\n",
      "/kaggle/input/classical-music-midi/chopin/chpn-p4.mid\n",
      "/kaggle/input/classical-music-midi/chopin/chpn-p2.mid\n",
      "/kaggle/input/classical-music-midi/chopin/chpn_op25_e2.mid\n",
      "/kaggle/input/classical-music-midi/chopin/chpn_op35_2.mid\n",
      "/kaggle/input/classical-music-midi/chopin/chpn_op27_2.mid\n",
      "/kaggle/input/classical-music-midi/chopin/chpn-p7.mid\n",
      "/kaggle/input/classical-music-midi/chopin/chpn_op33_4.mid\n",
      "/kaggle/input/classical-music-midi/chopin/chpn-p1.mid\n",
      "/kaggle/input/classical-music-midi/chopin/chpn-p8.mid\n",
      "/kaggle/input/classical-music-midi/chopin/chpn-p17.mid\n",
      "/kaggle/input/classical-music-midi/chopin/chpn_op10_e05.mid\n",
      "/kaggle/input/classical-music-midi/chopin/chpn-p11.mid\n",
      "/kaggle/input/classical-music-midi/chopin/chpn_op27_1.mid\n",
      "/kaggle/input/classical-music-midi/chopin/chpn_op33_2.mid\n",
      "/kaggle/input/classical-music-midi/chopin/chpn-p18.mid\n",
      "/kaggle/input/classical-music-midi/chopin/chpn-p15.mid\n",
      "/kaggle/input/classical-music-midi/chopin/chpn_op25_e11.mid\n",
      "/kaggle/input/classical-music-midi/chopin/chpn-p6.mid\n",
      "/kaggle/input/classical-music-midi/chopin/chpn_op10_e01.mid\n",
      "/kaggle/input/classical-music-midi/chopin/chpn_op25_e1.mid\n",
      "/kaggle/input/classical-music-midi/chopin/chpn-p12.mid\n",
      "/kaggle/input/classical-music-midi/chopin/chpn-p20.mid\n",
      "/kaggle/input/classical-music-midi/chopin/chpn-p9.mid\n",
      "/kaggle/input/classical-music-midi/chopin/chpn-p14.mid\n",
      "/kaggle/input/classical-music-midi/chopin/chpn-p24.mid\n",
      "/kaggle/input/classical-music-midi/chopin/chpn-p5.mid\n",
      "/kaggle/input/classical-music-midi/chopin/chpn_op25_e12.mid\n",
      "/kaggle/input/classical-music-midi/chopin/chpn_op25_e4.mid\n",
      "/kaggle/input/classical-music-midi/chopin/chpn_op53.mid\n",
      "/kaggle/input/classical-music-midi/chopin/chpn_op25_e3.mid\n",
      "/kaggle/input/classical-music-midi/chopin/chpn-p16.mid\n",
      "/kaggle/input/classical-music-midi/chopin/chpn-p23.mid\n",
      "/kaggle/input/classical-music-midi/chopin/chpn_op10_e12.mid\n",
      "/kaggle/input/classical-music-midi/chopin/chpn_op35_4.mid\n",
      "/kaggle/input/classical-music-midi/chopin/chpn-p19.mid\n",
      "/kaggle/input/classical-music-midi/chopin/chpn-p3.mid\n",
      "/kaggle/input/classical-music-midi/chopin/chpn_op7_1.mid\n",
      "/kaggle/input/classical-music-midi/chopin/chpn-p22.mid\n",
      "/kaggle/input/classical-music-midi/chopin/chpn_op35_3.mid\n",
      "/kaggle/input/classical-music-midi/chopin/chp_op31.mid\n",
      "/kaggle/input/classical-music-midi/chopin/chp_op18.mid\n",
      "/kaggle/input/classical-music-midi/chopin/chpn-p21.mid\n",
      "/kaggle/input/classical-music-midi/chopin/chpn_op7_2.mid\n",
      "/kaggle/input/classical-music-midi/liszt/liz_liebestraum.mid\n",
      "/kaggle/input/classical-music-midi/liszt/liz_et1.mid\n",
      "/kaggle/input/classical-music-midi/liszt/liz_et_trans4.mid\n",
      "/kaggle/input/classical-music-midi/liszt/liz_et3.mid\n",
      "/kaggle/input/classical-music-midi/liszt/liz_rhap09.mid\n",
      "/kaggle/input/classical-music-midi/liszt/liz_et_trans8.mid\n",
      "/kaggle/input/classical-music-midi/liszt/liz_et4.mid\n",
      "/kaggle/input/classical-music-midi/liszt/liz_rhap12.mid\n",
      "/kaggle/input/classical-music-midi/liszt/liz_rhap10.mid\n",
      "/kaggle/input/classical-music-midi/liszt/liz_donjuan.mid\n",
      "/kaggle/input/classical-music-midi/liszt/liz_et5.mid\n",
      "/kaggle/input/classical-music-midi/liszt/liz_rhap15.mid\n",
      "/kaggle/input/classical-music-midi/liszt/liz_et_trans5.mid\n",
      "/kaggle/input/classical-music-midi/liszt/liz_rhap02.mid\n",
      "/kaggle/input/classical-music-midi/liszt/liz_et2.mid\n",
      "/kaggle/input/classical-music-midi/liszt/liz_et6.mid\n"
     ]
    }
   ],
   "source": [
    "import os\n",
    "for dirname, _, filenames in os.walk('/kaggle/input'):\n",
    "    for filename in filenames:\n",
    "        print(os.path.join(dirname, filename))"
   ]
  },
  {
   "cell_type": "code",
   "execution_count": 2,
   "id": "4fafb4b2",
   "metadata": {
    "execution": {
     "iopub.execute_input": "2021-10-26T08:08:09.008102Z",
     "iopub.status.busy": "2021-10-26T08:08:09.003517Z",
     "iopub.status.idle": "2021-10-26T08:09:13.595113Z",
     "shell.execute_reply": "2021-10-26T08:09:13.594054Z",
     "shell.execute_reply.started": "2021-10-26T07:45:21.417419Z"
    },
    "papermill": {
     "duration": 64.630877,
     "end_time": "2021-10-26T08:09:13.595325",
     "exception": false,
     "start_time": "2021-10-26T08:08:08.964448",
     "status": "completed"
    },
    "tags": []
   },
   "outputs": [
    {
     "name": "stdout",
     "output_type": "stream",
     "text": [
      "Collecting music21\r\n",
      "  Downloading music21-7.1.0.tar.gz (19.2 MB)\r\n",
      "\u001b[K     |████████████████████████████████| 19.2 MB 614 kB/s \r\n",
      "\u001b[?25hRequirement already satisfied: chardet in /opt/conda/lib/python3.7/site-packages (from music21) (4.0.0)\r\n",
      "Requirement already satisfied: joblib in /opt/conda/lib/python3.7/site-packages (from music21) (1.0.1)\r\n",
      "Collecting jsonpickle\r\n",
      "  Downloading jsonpickle-2.0.0-py2.py3-none-any.whl (37 kB)\r\n",
      "Requirement already satisfied: matplotlib in /opt/conda/lib/python3.7/site-packages (from music21) (3.4.3)\r\n",
      "Requirement already satisfied: more_itertools in /opt/conda/lib/python3.7/site-packages (from music21) (8.10.0)\r\n",
      "Requirement already satisfied: numpy in /opt/conda/lib/python3.7/site-packages (from music21) (1.19.5)\r\n",
      "Collecting webcolors>=1.5\r\n",
      "  Downloading webcolors-1.11.1-py3-none-any.whl (9.9 kB)\r\n",
      "Requirement already satisfied: importlib-metadata in /opt/conda/lib/python3.7/site-packages (from jsonpickle->music21) (4.8.1)\r\n",
      "Requirement already satisfied: typing-extensions>=3.6.4 in /opt/conda/lib/python3.7/site-packages (from importlib-metadata->jsonpickle->music21) (3.10.0.2)\r\n",
      "Requirement already satisfied: zipp>=0.5 in /opt/conda/lib/python3.7/site-packages (from importlib-metadata->jsonpickle->music21) (3.5.0)\r\n",
      "Requirement already satisfied: cycler>=0.10 in /opt/conda/lib/python3.7/site-packages (from matplotlib->music21) (0.10.0)\r\n",
      "Requirement already satisfied: pillow>=6.2.0 in /opt/conda/lib/python3.7/site-packages (from matplotlib->music21) (8.2.0)\r\n",
      "Requirement already satisfied: python-dateutil>=2.7 in /opt/conda/lib/python3.7/site-packages (from matplotlib->music21) (2.8.0)\r\n",
      "Requirement already satisfied: pyparsing>=2.2.1 in /opt/conda/lib/python3.7/site-packages (from matplotlib->music21) (2.4.7)\r\n",
      "Requirement already satisfied: kiwisolver>=1.0.1 in /opt/conda/lib/python3.7/site-packages (from matplotlib->music21) (1.3.2)\r\n",
      "Requirement already satisfied: six in /opt/conda/lib/python3.7/site-packages (from cycler>=0.10->matplotlib->music21) (1.16.0)\r\n",
      "Building wheels for collected packages: music21\r\n",
      "  Building wheel for music21 (setup.py) ... \u001b[?25l-\b \b\\\b \b|\b \b/\b \b-\b \b\\\b \b|\b \b/\b \b-\b \b\\\b \b|\b \b/\b \b-\b \b\\\b \b|\b \b/\b \b-\b \b\\\b \b|\b \b/\b \b-\b \b\\\b \b|\b \b/\b \b-\b \b\\\b \b|\b \b/\b \b-\b \b\\\b \b|\b \b/\b \b-\b \b\\\b \b|\b \b/\b \b-\b \b\\\b \b|\b \b/\b \b-\b \b\\\b \b|\b \b/\b \b-\b \b\\\b \b|\b \b/\b \b-\b \b\\\b \b|\b \b/\b \b-\b \b\\\b \b|\b \b/\b \b-\b \b\\\b \b|\b \b/\b \b-\b \b\\\b \b|\b \b/\b \b-\b \b\\\b \b|\b \b/\b \b-\b \b\\\b \b|\b \b/\b \b-\b \b\\\b \b|\b \b/\b \b-\b \b\\\b \b|\b \bdone\r\n",
      "\u001b[?25h  Created wheel for music21: filename=music21-7.1.0-py3-none-any.whl size=21912606 sha256=54e48466d091b80c75cc2eb5a33a975be92d299f875673a60e9c94c2401d1724\r\n",
      "  Stored in directory: /root/.cache/pip/wheels/98/3c/67/9e30a8a4c3ac934068c95d2c27e38e1b5e5016a9257dbbf5d0\r\n",
      "Successfully built music21\r\n",
      "Installing collected packages: webcolors, jsonpickle, music21\r\n",
      "Successfully installed jsonpickle-2.0.0 music21-7.1.0 webcolors-1.11.1\r\n",
      "\u001b[33mWARNING: Running pip as the 'root' user can result in broken permissions and conflicting behaviour with the system package manager. It is recommended to use a virtual environment instead: https://pip.pypa.io/warnings/venv\u001b[0m\r\n",
      "\r\n",
      "\r\n",
      "\r\n",
      "The following additional packages will be installed:\r\n",
      "  ghostscript gsfonts libauthen-sasl-perl libdata-dump-perl\r\n",
      "  libencode-locale-perl libfile-listing-perl libfont-afm-perl\r\n",
      "  libhtml-form-perl libhtml-format-perl libhtml-parser-perl\r\n",
      "  libhtml-tagset-perl libhtml-tree-perl libhttp-cookies-perl\r\n",
      "  libhttp-daemon-perl libhttp-date-perl libhttp-message-perl\r\n",
      "  libhttp-negotiate-perl libio-html-perl libio-socket-ssl-perl\r\n",
      "  liblwp-mediatypes-perl liblwp-protocol-https-perl libmailtools-perl\r\n",
      "  libnet-http-perl libnet-smtp-ssl-perl libnet-ssleay-perl\r\n",
      "  libtext-unidecode-perl libtimedate-perl libtry-tiny-perl liburi-perl\r\n",
      "  libwww-perl libwww-robotrules-perl libxml-libxml-perl\r\n",
      "  libxml-namespacesupport-perl libxml-parser-perl libxml-sax-base-perl\r\n",
      "  libxml-sax-expat-perl libxml-sax-perl lilypond-data netbase\r\n",
      "  perl-openssl-defaults texinfo\r\n",
      "Suggested packages:\r\n",
      "  ghostscript-x libdigest-hmac-perl libgssapi-perl libcrypt-ssleay-perl\r\n",
      "  libauthen-ntlm-perl lilypond-doc texlive-generic-recommended\r\n",
      "  texinfo-doc-nonfree\r\n",
      "The following NEW packages will be installed:\r\n",
      "  ghostscript gsfonts libauthen-sasl-perl libdata-dump-perl\r\n",
      "  libencode-locale-perl libfile-listing-perl libfont-afm-perl\r\n",
      "  libhtml-form-perl libhtml-format-perl libhtml-parser-perl\r\n",
      "  libhtml-tagset-perl libhtml-tree-perl libhttp-cookies-perl\r\n",
      "  libhttp-daemon-perl libhttp-date-perl libhttp-message-perl\r\n",
      "  libhttp-negotiate-perl libio-html-perl libio-socket-ssl-perl\r\n",
      "  liblwp-mediatypes-perl liblwp-protocol-https-perl libmailtools-perl\r\n",
      "  libnet-http-perl libnet-smtp-ssl-perl libnet-ssleay-perl\r\n",
      "  libtext-unidecode-perl libtimedate-perl libtry-tiny-perl liburi-perl\r\n",
      "  libwww-perl libwww-robotrules-perl libxml-libxml-perl\r\n",
      "  libxml-namespacesupport-perl libxml-parser-perl libxml-sax-base-perl\r\n",
      "  libxml-sax-expat-perl libxml-sax-perl lilypond lilypond-data netbase\r\n",
      "  perl-openssl-defaults texinfo\r\n",
      "0 upgraded, 42 newly installed, 0 to remove and 20 not upgraded.\r\n",
      "Need to get 9886 kB of archives.\r\n",
      "After this operation, 35.8 MB of additional disk space will be used.\r\n",
      "Get:1 http://archive.ubuntu.com/ubuntu bionic/main amd64 netbase all 5.4 [12.7 kB]\r\n",
      "Get:2 http://archive.ubuntu.com/ubuntu bionic-updates/main amd64 ghostscript amd64 9.26~dfsg+0-0ubuntu0.18.04.14 [51.3 kB]\r\n",
      "Get:3 http://archive.ubuntu.com/ubuntu bionic/main amd64 gsfonts all 1:8.11+urwcyr1.0.7~pre44-4.4 [3120 kB]\r\n",
      "Get:4 http://archive.ubuntu.com/ubuntu bionic/main amd64 libdata-dump-perl all 1.23-1 [27.0 kB]\r\n",
      "Get:5 http://archive.ubuntu.com/ubuntu bionic/main amd64 libencode-locale-perl all 1.05-1 [12.3 kB]\r\n",
      "Get:6 http://archive.ubuntu.com/ubuntu bionic/main amd64 libtimedate-perl all 2.3000-2 [37.5 kB]\r\n",
      "Get:7 http://archive.ubuntu.com/ubuntu bionic/main amd64 libhttp-date-perl all 6.02-1 [10.4 kB]\r\n",
      "Get:8 http://archive.ubuntu.com/ubuntu bionic/main amd64 libfile-listing-perl all 6.04-1 [9774 B]\r\n",
      "Get:9 http://archive.ubuntu.com/ubuntu bionic/main amd64 libfont-afm-perl all 1.20-2 [13.2 kB]\r\n",
      "Get:10 http://archive.ubuntu.com/ubuntu bionic/main amd64 libhtml-tagset-perl all 3.20-3 [12.1 kB]\r\n",
      "Get:11 http://archive.ubuntu.com/ubuntu bionic/main amd64 liburi-perl all 1.73-1 [77.2 kB]\r\n",
      "Get:12 http://archive.ubuntu.com/ubuntu bionic/main amd64 libhtml-parser-perl amd64 3.72-3build1 [85.9 kB]\r\n",
      "Get:13 http://archive.ubuntu.com/ubuntu bionic/main amd64 libio-html-perl all 1.001-1 [14.9 kB]\r\n",
      "Get:14 http://archive.ubuntu.com/ubuntu bionic/main amd64 liblwp-mediatypes-perl all 6.02-1 [21.7 kB]\r\n",
      "Get:15 http://archive.ubuntu.com/ubuntu bionic/main amd64 libhttp-message-perl all 6.14-1 [72.1 kB]\r\n",
      "Get:16 http://archive.ubuntu.com/ubuntu bionic/main amd64 libhtml-form-perl all 6.03-1 [23.5 kB]\r\n",
      "Get:17 http://archive.ubuntu.com/ubuntu bionic/main amd64 libhtml-tree-perl all 5.07-1 [200 kB]\r\n",
      "Get:18 http://archive.ubuntu.com/ubuntu bionic/main amd64 libhtml-format-perl all 2.12-1 [41.3 kB]\r\n",
      "Get:19 http://archive.ubuntu.com/ubuntu bionic/main amd64 libhttp-cookies-perl all 6.04-1 [17.2 kB]\r\n",
      "Get:20 http://archive.ubuntu.com/ubuntu bionic/main amd64 libhttp-daemon-perl all 6.01-1 [17.0 kB]\r\n",
      "Get:21 http://archive.ubuntu.com/ubuntu bionic/main amd64 libhttp-negotiate-perl all 6.00-2 [13.4 kB]\r\n",
      "Get:22 http://archive.ubuntu.com/ubuntu bionic/main amd64 perl-openssl-defaults amd64 3build1 [7012 B]\r\n",
      "Get:23 http://archive.ubuntu.com/ubuntu bionic-updates/main amd64 libnet-ssleay-perl amd64 1.84-1ubuntu0.2 [283 kB]\r\n",
      "Get:24 http://archive.ubuntu.com/ubuntu bionic-updates/main amd64 libio-socket-ssl-perl all 2.060-3~ubuntu18.04.1 [173 kB]\r\n",
      "Get:25 http://archive.ubuntu.com/ubuntu bionic/main amd64 libnet-http-perl all 6.17-1 [22.7 kB]\r\n",
      "Get:26 http://archive.ubuntu.com/ubuntu bionic/main amd64 libtry-tiny-perl all 0.30-1 [20.5 kB]\r\n",
      "Get:27 http://archive.ubuntu.com/ubuntu bionic/main amd64 libwww-robotrules-perl all 6.01-1 [14.1 kB]\r\n",
      "Get:28 http://archive.ubuntu.com/ubuntu bionic-updates/main amd64 libwww-perl all 6.31-1ubuntu0.1 [137 kB]\r\n",
      "Get:29 http://archive.ubuntu.com/ubuntu bionic/main amd64 liblwp-protocol-https-perl all 6.07-2 [8284 B]\r\n",
      "Get:30 http://archive.ubuntu.com/ubuntu bionic/main amd64 libnet-smtp-ssl-perl all 1.04-1 [5948 B]\r\n",
      "Get:31 http://archive.ubuntu.com/ubuntu bionic/main amd64 libmailtools-perl all 2.18-1 [74.0 kB]\r\n",
      "Get:32 http://archive.ubuntu.com/ubuntu bionic/universe amd64 libtext-unidecode-perl all 1.30-1 [99.0 kB]\r\n",
      "Get:33 http://archive.ubuntu.com/ubuntu bionic/main amd64 libxml-namespacesupport-perl all 1.12-1 [13.2 kB]\r\n",
      "Get:34 http://archive.ubuntu.com/ubuntu bionic/main amd64 libxml-sax-base-perl all 1.09-1 [18.8 kB]\r\n",
      "Get:35 http://archive.ubuntu.com/ubuntu bionic/main amd64 libxml-sax-perl all 0.99+dfsg-2ubuntu1 [64.6 kB]\r\n",
      "Get:36 http://archive.ubuntu.com/ubuntu bionic/main amd64 libxml-libxml-perl amd64 2.0128+dfsg-5 [316 kB]\r\n",
      "Get:37 http://archive.ubuntu.com/ubuntu bionic/main amd64 libxml-parser-perl amd64 2.44-2build3 [199 kB]\r\n",
      "Get:38 http://archive.ubuntu.com/ubuntu bionic/main amd64 libxml-sax-expat-perl all 0.40-2 [11.5 kB]\r\n",
      "Get:39 http://archive.ubuntu.com/ubuntu bionic/universe amd64 texinfo amd64 6.5.0.dfsg.1-2 [752 kB]\r\n",
      "Get:40 http://archive.ubuntu.com/ubuntu bionic/universe amd64 lilypond-data all 2.18.2-12build1 [1799 kB]\r\n",
      "Get:41 http://archive.ubuntu.com/ubuntu bionic/universe amd64 lilypond amd64 2.18.2-12build1 [1928 kB]\r\n",
      "Get:42 http://archive.ubuntu.com/ubuntu bionic/main amd64 libauthen-sasl-perl all 2.1600-1 [48.7 kB]\r\n",
      "Fetched 9886 kB in 0s (25.5 MB/s)\r\n",
      "debconf: delaying package configuration, since apt-utils is not installed\r\n",
      "Selecting previously unselected package netbase.\r\n",
      "(Reading database ... 111661 files and directories currently installed.)\r\n",
      "Preparing to unpack .../00-netbase_5.4_all.deb ...\r\n",
      "Unpacking netbase (5.4) ...\r\n",
      "Selecting previously unselected package ghostscript.\r\n",
      "Preparing to unpack .../01-ghostscript_9.26~dfsg+0-0ubuntu0.18.04.14_amd64.deb ...\r\n",
      "Unpacking ghostscript (9.26~dfsg+0-0ubuntu0.18.04.14) ...\r\n",
      "Selecting previously unselected package gsfonts.\r\n",
      "Preparing to unpack .../02-gsfonts_1%3a8.11+urwcyr1.0.7~pre44-4.4_all.deb ...\r\n",
      "Unpacking gsfonts (1:8.11+urwcyr1.0.7~pre44-4.4) ...\r\n",
      "Selecting previously unselected package libdata-dump-perl.\r\n",
      "Preparing to unpack .../03-libdata-dump-perl_1.23-1_all.deb ...\r\n",
      "Unpacking libdata-dump-perl (1.23-1) ...\r\n",
      "Selecting previously unselected package libencode-locale-perl.\r\n",
      "Preparing to unpack .../04-libencode-locale-perl_1.05-1_all.deb ...\r\n",
      "Unpacking libencode-locale-perl (1.05-1) ...\r\n",
      "Selecting previously unselected package libtimedate-perl.\r\n",
      "Preparing to unpack .../05-libtimedate-perl_2.3000-2_all.deb ...\r\n",
      "Unpacking libtimedate-perl (2.3000-2) ...\r\n",
      "Selecting previously unselected package libhttp-date-perl.\r\n",
      "Preparing to unpack .../06-libhttp-date-perl_6.02-1_all.deb ...\r\n",
      "Unpacking libhttp-date-perl (6.02-1) ...\r\n",
      "Selecting previously unselected package libfile-listing-perl.\r\n",
      "Preparing to unpack .../07-libfile-listing-perl_6.04-1_all.deb ...\r\n",
      "Unpacking libfile-listing-perl (6.04-1) ...\r\n",
      "Selecting previously unselected package libfont-afm-perl.\r\n",
      "Preparing to unpack .../08-libfont-afm-perl_1.20-2_all.deb ...\r\n",
      "Unpacking libfont-afm-perl (1.20-2) ...\r\n",
      "Selecting previously unselected package libhtml-tagset-perl.\r\n",
      "Preparing to unpack .../09-libhtml-tagset-perl_3.20-3_all.deb ...\r\n",
      "Unpacking libhtml-tagset-perl (3.20-3) ...\r\n",
      "Selecting previously unselected package liburi-perl.\r\n",
      "Preparing to unpack .../10-liburi-perl_1.73-1_all.deb ...\r\n",
      "Unpacking liburi-perl (1.73-1) ...\r\n",
      "Selecting previously unselected package libhtml-parser-perl.\r\n",
      "Preparing to unpack .../11-libhtml-parser-perl_3.72-3build1_amd64.deb ...\r\n",
      "Unpacking libhtml-parser-perl (3.72-3build1) ...\r\n",
      "Selecting previously unselected package libio-html-perl.\r\n",
      "Preparing to unpack .../12-libio-html-perl_1.001-1_all.deb ...\r\n",
      "Unpacking libio-html-perl (1.001-1) ...\r\n",
      "Selecting previously unselected package liblwp-mediatypes-perl.\r\n",
      "Preparing to unpack .../13-liblwp-mediatypes-perl_6.02-1_all.deb ...\r\n",
      "Unpacking liblwp-mediatypes-perl (6.02-1) ...\r\n",
      "Selecting previously unselected package libhttp-message-perl.\r\n",
      "Preparing to unpack .../14-libhttp-message-perl_6.14-1_all.deb ...\r\n",
      "Unpacking libhttp-message-perl (6.14-1) ...\r\n",
      "Selecting previously unselected package libhtml-form-perl.\r\n",
      "Preparing to unpack .../15-libhtml-form-perl_6.03-1_all.deb ...\r\n",
      "Unpacking libhtml-form-perl (6.03-1) ...\r\n",
      "Selecting previously unselected package libhtml-tree-perl.\r\n",
      "Preparing to unpack .../16-libhtml-tree-perl_5.07-1_all.deb ...\r\n",
      "Unpacking libhtml-tree-perl (5.07-1) ...\r\n",
      "Selecting previously unselected package libhtml-format-perl.\r\n",
      "Preparing to unpack .../17-libhtml-format-perl_2.12-1_all.deb ...\r\n",
      "Unpacking libhtml-format-perl (2.12-1) ...\r\n",
      "Selecting previously unselected package libhttp-cookies-perl.\r\n",
      "Preparing to unpack .../18-libhttp-cookies-perl_6.04-1_all.deb ...\r\n",
      "Unpacking libhttp-cookies-perl (6.04-1) ...\r\n",
      "Selecting previously unselected package libhttp-daemon-perl.\r\n",
      "Preparing to unpack .../19-libhttp-daemon-perl_6.01-1_all.deb ...\r\n",
      "Unpacking libhttp-daemon-perl (6.01-1) ...\r\n",
      "Selecting previously unselected package libhttp-negotiate-perl.\r\n",
      "Preparing to unpack .../20-libhttp-negotiate-perl_6.00-2_all.deb ...\r\n",
      "Unpacking libhttp-negotiate-perl (6.00-2) ...\r\n",
      "Selecting previously unselected package perl-openssl-defaults:amd64.\r\n",
      "Preparing to unpack .../21-perl-openssl-defaults_3build1_amd64.deb ...\r\n",
      "Unpacking perl-openssl-defaults:amd64 (3build1) ...\r\n",
      "Selecting previously unselected package libnet-ssleay-perl.\r\n",
      "Preparing to unpack .../22-libnet-ssleay-perl_1.84-1ubuntu0.2_amd64.deb ...\r\n",
      "Unpacking libnet-ssleay-perl (1.84-1ubuntu0.2) ...\r\n",
      "Selecting previously unselected package libio-socket-ssl-perl.\r\n",
      "Preparing to unpack .../23-libio-socket-ssl-perl_2.060-3~ubuntu18.04.1_all.deb ...\r\n",
      "Unpacking libio-socket-ssl-perl (2.060-3~ubuntu18.04.1) ...\r\n",
      "Selecting previously unselected package libnet-http-perl.\r\n",
      "Preparing to unpack .../24-libnet-http-perl_6.17-1_all.deb ...\r\n",
      "Unpacking libnet-http-perl (6.17-1) ...\r\n",
      "Selecting previously unselected package libtry-tiny-perl.\r\n",
      "Preparing to unpack .../25-libtry-tiny-perl_0.30-1_all.deb ...\r\n",
      "Unpacking libtry-tiny-perl (0.30-1) ...\r\n",
      "Selecting previously unselected package libwww-robotrules-perl.\r\n",
      "Preparing to unpack .../26-libwww-robotrules-perl_6.01-1_all.deb ...\r\n",
      "Unpacking libwww-robotrules-perl (6.01-1) ...\r\n",
      "Selecting previously unselected package libwww-perl.\r\n",
      "Preparing to unpack .../27-libwww-perl_6.31-1ubuntu0.1_all.deb ...\r\n",
      "Unpacking libwww-perl (6.31-1ubuntu0.1) ...\r\n",
      "Selecting previously unselected package liblwp-protocol-https-perl.\r\n",
      "Preparing to unpack .../28-liblwp-protocol-https-perl_6.07-2_all.deb ...\r\n",
      "Unpacking liblwp-protocol-https-perl (6.07-2) ...\r\n",
      "Selecting previously unselected package libnet-smtp-ssl-perl.\r\n",
      "Preparing to unpack .../29-libnet-smtp-ssl-perl_1.04-1_all.deb ...\r\n",
      "Unpacking libnet-smtp-ssl-perl (1.04-1) ...\r\n",
      "Selecting previously unselected package libmailtools-perl.\r\n",
      "Preparing to unpack .../30-libmailtools-perl_2.18-1_all.deb ...\r\n",
      "Unpacking libmailtools-perl (2.18-1) ...\r\n",
      "Selecting previously unselected package libtext-unidecode-perl.\r\n",
      "Preparing to unpack .../31-libtext-unidecode-perl_1.30-1_all.deb ...\r\n",
      "Unpacking libtext-unidecode-perl (1.30-1) ...\r\n",
      "Selecting previously unselected package libxml-namespacesupport-perl.\r\n",
      "Preparing to unpack .../32-libxml-namespacesupport-perl_1.12-1_all.deb ...\r\n",
      "Unpacking libxml-namespacesupport-perl (1.12-1) ...\r\n",
      "Selecting previously unselected package libxml-sax-base-perl.\r\n",
      "Preparing to unpack .../33-libxml-sax-base-perl_1.09-1_all.deb ...\r\n",
      "Unpacking libxml-sax-base-perl (1.09-1) ...\r\n",
      "Selecting previously unselected package libxml-sax-perl.\r\n",
      "Preparing to unpack .../34-libxml-sax-perl_0.99+dfsg-2ubuntu1_all.deb ...\r\n",
      "Unpacking libxml-sax-perl (0.99+dfsg-2ubuntu1) ...\r\n",
      "Selecting previously unselected package libxml-libxml-perl.\r\n",
      "Preparing to unpack .../35-libxml-libxml-perl_2.0128+dfsg-5_amd64.deb ...\r\n",
      "Unpacking libxml-libxml-perl (2.0128+dfsg-5) ...\r\n",
      "Selecting previously unselected package libxml-parser-perl.\r\n",
      "Preparing to unpack .../36-libxml-parser-perl_2.44-2build3_amd64.deb ...\r\n",
      "Unpacking libxml-parser-perl (2.44-2build3) ...\r\n",
      "Selecting previously unselected package libxml-sax-expat-perl.\r\n",
      "Preparing to unpack .../37-libxml-sax-expat-perl_0.40-2_all.deb ...\r\n",
      "Unpacking libxml-sax-expat-perl (0.40-2) ...\r\n",
      "Selecting previously unselected package texinfo.\r\n",
      "Preparing to unpack .../38-texinfo_6.5.0.dfsg.1-2_amd64.deb ...\r\n",
      "Unpacking texinfo (6.5.0.dfsg.1-2) ...\r\n",
      "Selecting previously unselected package lilypond-data.\r\n",
      "Preparing to unpack .../39-lilypond-data_2.18.2-12build1_all.deb ...\r\n",
      "Unpacking lilypond-data (2.18.2-12build1) ...\r\n",
      "Selecting previously unselected package lilypond.\r\n",
      "Preparing to unpack .../40-lilypond_2.18.2-12build1_amd64.deb ...\r\n",
      "Unpacking lilypond (2.18.2-12build1) ...\r\n",
      "Selecting previously unselected package libauthen-sasl-perl.\r\n",
      "Preparing to unpack .../41-libauthen-sasl-perl_2.1600-1_all.deb ...\r\n",
      "Unpacking libauthen-sasl-perl (2.1600-1) ...\r\n",
      "Setting up libhtml-tagset-perl (3.20-3) ...\r\n",
      "Setting up libtry-tiny-perl (0.30-1) ...\r\n",
      "Setting up libfont-afm-perl (1.20-2) ...\r\n",
      "Setting up libxml-namespacesupport-perl (1.12-1) ...\r\n",
      "Setting up gsfonts (1:8.11+urwcyr1.0.7~pre44-4.4) ...\r\n",
      "Setting up libencode-locale-perl (1.05-1) ...\r\n",
      "Setting up libtimedate-perl (2.3000-2) ...\r\n",
      "Setting up perl-openssl-defaults:amd64 (3build1) ...\r\n",
      "Setting up libio-html-perl (1.001-1) ...\r\n",
      "Setting up libtext-unidecode-perl (1.30-1) ...\r\n",
      "Setting up ghostscript (9.26~dfsg+0-0ubuntu0.18.04.14) ...\r\n",
      "Setting up libxml-sax-base-perl (1.09-1) ...\r\n",
      "Setting up liblwp-mediatypes-perl (6.02-1) ...\r\n",
      "Setting up liburi-perl (1.73-1) ...\r\n",
      "Setting up libdata-dump-perl (1.23-1) ...\r\n",
      "Setting up libhtml-parser-perl (3.72-3build1) ...\r\n",
      "Setting up libnet-http-perl (6.17-1) ...\r\n",
      "Setting up libwww-robotrules-perl (6.01-1) ...\r\n",
      "Setting up libauthen-sasl-perl (2.1600-1) ...\r\n",
      "Setting up netbase (5.4) ...\r\n",
      "Setting up libxml-sax-perl (0.99+dfsg-2ubuntu1) ...\r\n",
      "update-perl-sax-parsers: Registering Perl SAX parser XML::SAX::PurePerl with priority 10...\r\n",
      "update-perl-sax-parsers: Updating overall Perl SAX parser modules info file...\r\n",
      "debconf: unable to initialize frontend: Dialog\r\n",
      "debconf: (No usable dialog-like program is installed, so the dialog based frontend cannot be used. at /usr/share/perl5/Debconf/FrontEnd/Dialog.pm line 76.)\r\n",
      "debconf: falling back to frontend: Readline\r\n",
      "\r\n",
      "Creating config file /etc/perl/XML/SAX/ParserDetails.ini with new version\r\n",
      "Setting up libhttp-date-perl (6.02-1) ...\r\n",
      "Setting up libnet-ssleay-perl (1.84-1ubuntu0.2) ...\r\n",
      "Setting up libio-socket-ssl-perl (2.060-3~ubuntu18.04.1) ...\r\n",
      "Setting up libhtml-tree-perl (5.07-1) ...\r\n",
      "Setting up libfile-listing-perl (6.04-1) ...\r\n",
      "Setting up libhttp-message-perl (6.14-1) ...\r\n",
      "Setting up libxml-libxml-perl (2.0128+dfsg-5) ...\r\n",
      "update-perl-sax-parsers: Registering Perl SAX parser XML::LibXML::SAX::Parser with priority 50...\r\n",
      "update-perl-sax-parsers: Registering Perl SAX parser XML::LibXML::SAX with priority 50...\r\n",
      "update-perl-sax-parsers: Updating overall Perl SAX parser modules info file...\r\n",
      "debconf: unable to initialize frontend: Dialog\r\n",
      "debconf: (No usable dialog-like program is installed, so the dialog based frontend cannot be used. at /usr/share/perl5/Debconf/FrontEnd/Dialog.pm line 76.)\r\n",
      "debconf: falling back to frontend: Readline\r\n",
      "Replacing config file /etc/perl/XML/SAX/ParserDetails.ini with new version\r\n",
      "Setting up libhttp-negotiate-perl (6.00-2) ...\r\n",
      "Setting up libnet-smtp-ssl-perl (1.04-1) ...\r\n",
      "Setting up libhtml-format-perl (2.12-1) ...\r\n",
      "Setting up libhttp-cookies-perl (6.04-1) ...\r\n",
      "Setting up libhttp-daemon-perl (6.01-1) ...\r\n",
      "Setting up libhtml-form-perl (6.03-1) ...\r\n",
      "Setting up texinfo (6.5.0.dfsg.1-2) ...\r\n",
      "Running mktexlsr. This may take some time. ... done.\r\n",
      "Setting up libmailtools-perl (2.18-1) ...\r\n",
      "Setting up lilypond-data (2.18.2-12build1) ...\r\n",
      "Setting up lilypond (2.18.2-12build1) ...\r\n",
      "Setting up liblwp-protocol-https-perl (6.07-2) ...\r\n",
      "Setting up libwww-perl (6.31-1ubuntu0.1) ...\r\n",
      "Setting up libxml-parser-perl (2.44-2build3) ...\r\n",
      "Setting up libxml-sax-expat-perl (0.40-2) ...\r\n",
      "update-perl-sax-parsers: Registering Perl SAX parser XML::SAX::Expat with priority 50...\r\n",
      "update-perl-sax-parsers: Updating overall Perl SAX parser modules info file...\r\n",
      "debconf: unable to initialize frontend: Dialog\r\n",
      "debconf: (No usable dialog-like program is installed, so the dialog based frontend cannot be used. at /usr/share/perl5/Debconf/FrontEnd/Dialog.pm line 76.)\r\n",
      "debconf: falling back to frontend: Readline\r\n",
      "Replacing config file /etc/perl/XML/SAX/ParserDetails.ini with new version\r\n",
      "Processing triggers for fontconfig (2.12.6-0ubuntu2) ...\r\n",
      "Processing triggers for tex-common (6.09) ...\r\n",
      "debconf: unable to initialize frontend: Dialog\r\n",
      "debconf: (No usable dialog-like program is installed, so the dialog based frontend cannot be used. at /usr/share/perl5/Debconf/FrontEnd/Dialog.pm line 76.)\r\n",
      "debconf: falling back to frontend: Readline\r\n",
      "Running mktexlsr. This may take some time... done.\r\n",
      "Processing triggers for libc-bin (2.27-3ubuntu1.4) ...\r\n"
     ]
    }
   ],
   "source": [
    "#Installing dependencies\n",
    "!pip install music21\n",
    "!apt-get install -y lilypond\n",
    "\n",
    "#Importing Libraries\n",
    "import tensorflow \n",
    "import numpy as np \n",
    "import pandas as pd \n",
    "from collections import Counter\n",
    "import random\n",
    "import IPython\n",
    "from IPython.display import Image, Audio\n",
    "import music21\n",
    "from music21 import *\n",
    "import matplotlib.pyplot as plt \n",
    "from sklearn.model_selection import train_test_split\n",
    "from tensorflow.keras.models import Sequential\n",
    "from tensorflow.keras.layers import LSTM, Dense, Dropout\n",
    "import tensorflow.keras.backend as K\n",
    "from tensorflow.keras.optimizers import Adamax\n",
    "import seaborn as sns\n",
    "import matplotlib.pyplot as plt\n",
    "import matplotlib.patches as mpatches\n",
    "%matplotlib inline\n",
    "import sys\n",
    "import warnings\n",
    "warnings.filterwarnings(\"ignore\")\n",
    "warnings.simplefilter(\"ignore\")\n",
    "np.random.seed(42)"
   ]
  },
  {
   "cell_type": "markdown",
   "id": "ddeb9aae",
   "metadata": {
    "papermill": {
     "duration": 0.127057,
     "end_time": "2021-10-26T08:09:13.840929",
     "exception": false,
     "start_time": "2021-10-26T08:09:13.713872",
     "status": "completed"
    },
    "tags": []
   },
   "source": [
    "Loading Data."
   ]
  },
  {
   "cell_type": "code",
   "execution_count": 3,
   "id": "bc6ba046",
   "metadata": {
    "execution": {
     "iopub.execute_input": "2021-10-26T08:09:14.081996Z",
     "iopub.status.busy": "2021-10-26T08:09:14.081191Z",
     "iopub.status.idle": "2021-10-26T08:15:25.504735Z",
     "shell.execute_reply": "2021-10-26T08:15:25.503690Z",
     "shell.execute_reply.started": "2021-10-26T07:46:12.043571Z"
    },
    "papermill": {
     "duration": 371.54693,
     "end_time": "2021-10-26T08:15:25.504940",
     "exception": false,
     "start_time": "2021-10-26T08:09:13.958010",
     "status": "completed"
    },
    "tags": []
   },
   "outputs": [],
   "source": [
    "#Loading the list of chopin's midi files as stream \n",
    "filepath = \"../input/classical-music-midi/chopin/\"\n",
    "#Getting midi files\n",
    "all_midis= []\n",
    "for i in os.listdir(filepath):\n",
    "    if i.endswith(\".mid\"):\n",
    "        tr = filepath+i\n",
    "        midi = converter.parse(tr)\n",
    "        all_midis.append(midi)"
   ]
  },
  {
   "cell_type": "code",
   "execution_count": 4,
   "id": "38623ecf",
   "metadata": {
    "execution": {
     "iopub.execute_input": "2021-10-26T08:15:25.794899Z",
     "iopub.status.busy": "2021-10-26T08:15:25.763997Z",
     "iopub.status.idle": "2021-10-26T08:15:49.619077Z",
     "shell.execute_reply": "2021-10-26T08:15:49.619919Z",
     "shell.execute_reply.started": "2021-10-26T07:51:11.238325Z"
    },
    "papermill": {
     "duration": 23.997991,
     "end_time": "2021-10-26T08:15:49.620171",
     "exception": false,
     "start_time": "2021-10-26T08:15:25.622180",
     "status": "completed"
    },
    "tags": []
   },
   "outputs": [
    {
     "name": "stdout",
     "output_type": "stream",
     "text": [
      "Total notes in all the Chopin midis in the dataset: 57887\n"
     ]
    }
   ],
   "source": [
    "#Helping function (to get notes)        \n",
    "def extract_notes(file):\n",
    "    notes = []\n",
    "    pick = None\n",
    "    for j in file:\n",
    "        songs = instrument.partitionByInstrument(j)\n",
    "        for part in songs.parts:\n",
    "            pick = part.recurse()\n",
    "            for element in pick:\n",
    "                if isinstance(element, note.Note):\n",
    "                    notes.append(str(element.pitch))\n",
    "                elif isinstance(element, chord.Chord):\n",
    "                    notes.append(\".\".join(str(n) for n in element.normalOrder))\n",
    "    return notes\n",
    "#Getting the list of notes as Corpus\n",
    "Corpus= extract_notes(all_midis)\n",
    "print(\"Total notes in all the Chopin midis in the dataset:\", len(Corpus))"
   ]
  },
  {
   "cell_type": "code",
   "execution_count": 5,
   "id": "62342e73",
   "metadata": {
    "execution": {
     "iopub.execute_input": "2021-10-26T08:15:49.858513Z",
     "iopub.status.busy": "2021-10-26T08:15:49.857596Z",
     "iopub.status.idle": "2021-10-26T08:15:49.861514Z",
     "shell.execute_reply": "2021-10-26T08:15:49.862583Z",
     "shell.execute_reply.started": "2021-10-26T07:51:30.54876Z"
    },
    "papermill": {
     "duration": 0.125744,
     "end_time": "2021-10-26T08:15:49.862811",
     "exception": false,
     "start_time": "2021-10-26T08:15:49.737067",
     "status": "completed"
    },
    "tags": []
   },
   "outputs": [
    {
     "name": "stdout",
     "output_type": "stream",
     "text": [
      "First fifty values in the Corpus: ['6.10.1', 'F#2', 'F3', 'G#3', 'F#3', 'B-3', 'C#3', '6.10.1', 'F#2', 'F3', 'G#3', 'F#3', 'B-3', 'C#3', '6.10.1', 'F#2', 'F3', 'G#3', 'F#3', 'B-3', 'C#3', 'F4', 'B4', 'C#2', 'G3', 'B-3', 'G#3', 'G#4', 'B3', 'C#3', '6.10.1', 'F#2', 'F3', 'G#3', 'F#3', 'B-3', 'C#3', 'C#4', '6.10', 'F#2', 'F3', 'G#3', 'F#3', '6.10', 'B-3', 'C#3', 'C#4', '6.10', 'F#2', 'F3']\n"
     ]
    }
   ],
   "source": [
    "print(\"First fifty values in the Corpus:\", Corpus[:50])"
   ]
  },
  {
   "cell_type": "markdown",
   "id": "cf7e98b8",
   "metadata": {
    "papermill": {
     "duration": 0.114666,
     "end_time": "2021-10-26T08:15:50.093846",
     "exception": false,
     "start_time": "2021-10-26T08:15:49.979180",
     "status": "completed"
    },
    "tags": []
   },
   "source": [
    "Data Exploration,"
   ]
  },
  {
   "cell_type": "code",
   "execution_count": 6,
   "id": "196563a9",
   "metadata": {
    "execution": {
     "iopub.execute_input": "2021-10-26T08:15:50.369526Z",
     "iopub.status.busy": "2021-10-26T08:15:50.345225Z",
     "iopub.status.idle": "2021-10-26T08:15:52.358577Z",
     "shell.execute_reply": "2021-10-26T08:15:52.359124Z",
     "shell.execute_reply.started": "2021-10-26T07:51:30.556403Z"
    },
    "papermill": {
     "duration": 2.149607,
     "end_time": "2021-10-26T08:15:52.359339",
     "exception": false,
     "start_time": "2021-10-26T08:15:50.209732",
     "status": "completed"
    },
    "tags": []
   },
   "outputs": [
    {
     "name": "stderr",
     "output_type": "stream",
     "text": [
      "Changing working directory to: `/tmp/music21'\n",
      "Processing `/tmp/music21/tmpfjz2xf9f.ly'\n",
      "Parsing...\n",
      "Interpreting music...[8][16][24][32][32]\n",
      "Preprocessing graphical objects...\n",
      "Calculating line breaks... \n",
      "Drawing systems... \n",
      "Layout output to `tmpfjz2xf9f.ly.eps'...\n",
      "Converting to PNG...\n",
      "Layout output to `tmpfjz2xf9f.ly-1.eps'...\n",
      "Layout output to `tmpfjz2xf9f.ly-2.eps'...\n",
      "Layout output to `tmpfjz2xf9f.ly-3.eps'...\n",
      "Layout output to `tmpfjz2xf9f.ly-4.eps'...\n",
      "Layout output to `tmpfjz2xf9f.ly-5.eps'...\n",
      "Writing tmpfjz2xf9f.ly-systems.texi...\n",
      "Writing tmpfjz2xf9f.ly-systems.tex...\n",
      "Writing tmpfjz2xf9f.ly-systems.count...\n",
      "Success: compilation successfully completed\n"
     ]
    },
    {
     "data": {
      "image/png": "[encoded data removed]",
      "text/plain": [
       "<IPython.core.display.Image object>"
      ]
     },
     "metadata": {},
     "output_type": "display_data"
    }
   ],
   "source": [
    "# functions for data exploration\n",
    "\n",
    "def show(music):\n",
    "    display(Image(str(music.write(\"lily.png\"))))\n",
    "    \n",
    "def chords_n_notes(Snippet):\n",
    "    Melody = []\n",
    "    offset = 0 #Incremental\n",
    "    for i in Snippet:\n",
    "        #If it is chord\n",
    "        if (\".\" in i or i.isdigit()):\n",
    "            chord_notes = i.split(\".\") #Seperating the notes in chord\n",
    "            notes = [] \n",
    "            for j in chord_notes:\n",
    "                inst_note=int(j)\n",
    "                note_snip = note.Note(inst_note)            \n",
    "                notes.append(note_snip)\n",
    "                chord_snip = chord.Chord(notes)\n",
    "                chord_snip.offset = offset\n",
    "                Melody.append(chord_snip)\n",
    "        # pattern is a note\n",
    "        else: \n",
    "            note_snip = note.Note(i)\n",
    "            note_snip.offset = offset\n",
    "            Melody.append(note_snip)\n",
    "        # increase offset each iteration so that notes do not stack\n",
    "        offset += 1\n",
    "    Melody_midi = stream.Stream(Melody)   \n",
    "    return Melody_midi\n",
    "\n",
    "Melody_Snippet = chords_n_notes(Corpus[:100])\n",
    "show(Melody_Snippet)"
   ]
  },
  {
   "cell_type": "code",
   "execution_count": 7,
   "id": "d7bc908c",
   "metadata": {
    "execution": {
     "iopub.execute_input": "2021-10-26T08:15:52.617252Z",
     "iopub.status.busy": "2021-10-26T08:15:52.604539Z",
     "iopub.status.idle": "2021-10-26T08:15:52.622647Z",
     "shell.execute_reply": "2021-10-26T08:15:52.621741Z",
     "shell.execute_reply.started": "2021-10-26T08:01:08.826896Z"
    },
    "papermill": {
     "duration": 0.142361,
     "end_time": "2021-10-26T08:15:52.622844",
     "exception": false,
     "start_time": "2021-10-26T08:15:52.480483",
     "status": "completed"
    },
    "tags": []
   },
   "outputs": [
    {
     "name": "stdout",
     "output_type": "stream",
     "text": [
      "Total unique notes in the Corpus: 397\n"
     ]
    }
   ],
   "source": [
    "#Creating a count dictionary\n",
    "count_num = Counter(Corpus)\n",
    "print(\"Total unique notes in the Corpus:\", len(count_num))"
   ]
  },
  {
   "cell_type": "code",
   "execution_count": 8,
   "id": "31fd135e",
   "metadata": {
    "execution": {
     "iopub.execute_input": "2021-10-26T08:15:52.874769Z",
     "iopub.status.busy": "2021-10-26T08:15:52.873601Z",
     "iopub.status.idle": "2021-10-26T08:15:52.879528Z",
     "shell.execute_reply": "2021-10-26T08:15:52.880057Z",
     "shell.execute_reply.started": "2021-10-26T08:01:13.985395Z"
    },
    "papermill": {
     "duration": 0.134587,
     "end_time": "2021-10-26T08:15:52.880232",
     "exception": false,
     "start_time": "2021-10-26T08:15:52.745645",
     "status": "completed"
    },
    "tags": []
   },
   "outputs": [
    {
     "name": "stdout",
     "output_type": "stream",
     "text": [
      "Average recurrenc for a note in Corpus: 145.8110831234257\n",
      "Most frequent note in Corpus appeared: 1627 times\n",
      "Least frequent note in Corpus appeared: 1 time\n"
     ]
    }
   ],
   "source": [
    "#Exploring the notes dictionary\n",
    "Notes = list(count_num.keys())\n",
    "Recurrence = list(count_num.values())\n",
    "#Average recurrenc for a note in Corpus\n",
    "def Average(lst):\n",
    "    return sum(lst) / len(lst)\n",
    "print(\"Average recurrenc for a note in Corpus:\", Average(Recurrence))\n",
    "print(\"Most frequent note in Corpus appeared:\", max(Recurrence), \"times\")\n",
    "print(\"Least frequent note in Corpus appeared:\", min(Recurrence), \"time\")"
   ]
  },
  {
   "cell_type": "code",
   "execution_count": 9,
   "id": "872a0476",
   "metadata": {
    "execution": {
     "iopub.execute_input": "2021-10-26T08:15:53.152712Z",
     "iopub.status.busy": "2021-10-26T08:15:53.151801Z",
     "iopub.status.idle": "2021-10-26T08:15:53.552020Z",
     "shell.execute_reply": "2021-10-26T08:15:53.552706Z",
     "shell.execute_reply.started": "2021-10-26T08:01:16.174571Z"
    },
    "papermill": {
     "duration": 0.551706,
     "end_time": "2021-10-26T08:15:53.552958",
     "exception": false,
     "start_time": "2021-10-26T08:15:53.001252",
     "status": "completed"
    },
    "tags": []
   },
   "outputs": [
    {
     "data": {
      "image/png": "[encoded data removed]",
      "text/plain": [
       "<Figure size 1296x216 with 1 Axes>"
      ]
     },
     "metadata": {
      "image/png": {
       "height": 222,
       "width": 1058
      }
     },
     "output_type": "display_data"
    }
   ],
   "source": [
    "# Plotting the distribution of Notes\n",
    "plt.figure(figsize=(18,3),facecolor=\"#97BACB\")\n",
    "bins = np.arange(0,(max(Recurrence)), 50) \n",
    "plt.hist(Recurrence, bins=bins, color=\"#97BACB\")\n",
    "plt.axvline(x=100,color=\"#DBACC1\")\n",
    "plt.title(\"Frequency Distribution Of Notes In The Corpus\")\n",
    "plt.xlabel(\"Frequency Of Chords in Corpus\")\n",
    "plt.ylabel(\"Number Of Chords\")\n",
    "plt.show()"
   ]
  },
  {
   "cell_type": "markdown",
   "id": "10b9a1bd",
   "metadata": {
    "papermill": {
     "duration": 0.120293,
     "end_time": "2021-10-26T08:15:53.794152",
     "exception": false,
     "start_time": "2021-10-26T08:15:53.673859",
     "status": "completed"
    },
    "tags": []
   },
   "source": [
    "Data Preprocessing"
   ]
  },
  {
   "cell_type": "code",
   "execution_count": 10,
   "id": "3d6a7932",
   "metadata": {
    "execution": {
     "iopub.execute_input": "2021-10-26T08:15:54.045677Z",
     "iopub.status.busy": "2021-10-26T08:15:54.044778Z",
     "iopub.status.idle": "2021-10-26T08:15:54.048734Z",
     "shell.execute_reply": "2021-10-26T08:15:54.049297Z",
     "shell.execute_reply.started": "2021-10-26T08:01:22.235912Z"
    },
    "papermill": {
     "duration": 0.132317,
     "end_time": "2021-10-26T08:15:54.049515",
     "exception": false,
     "start_time": "2021-10-26T08:15:53.917198",
     "status": "completed"
    },
    "tags": []
   },
   "outputs": [
    {
     "name": "stdout",
     "output_type": "stream",
     "text": [
      "Total number of notes that occur less than 100 times: 271\n"
     ]
    }
   ],
   "source": [
    "#Getting a list of rare chords\n",
    "rare_note = []\n",
    "for index, (key, value) in enumerate(count_num.items()):\n",
    "    if value < 100:\n",
    "        m =  key\n",
    "        rare_note.append(m)\n",
    "        \n",
    "print(\"Total number of notes that occur less than 100 times:\", len(rare_note))"
   ]
  },
  {
   "cell_type": "code",
   "execution_count": 11,
   "id": "4151f165",
   "metadata": {
    "execution": {
     "iopub.execute_input": "2021-10-26T08:15:54.328691Z",
     "iopub.status.busy": "2021-10-26T08:15:54.323738Z",
     "iopub.status.idle": "2021-10-26T08:15:56.233358Z",
     "shell.execute_reply": "2021-10-26T08:15:56.234201Z",
     "shell.execute_reply.started": "2021-10-26T08:01:23.114255Z"
    },
    "papermill": {
     "duration": 2.062824,
     "end_time": "2021-10-26T08:15:56.234494",
     "exception": false,
     "start_time": "2021-10-26T08:15:54.171670",
     "status": "completed"
    },
    "tags": []
   },
   "outputs": [
    {
     "name": "stdout",
     "output_type": "stream",
     "text": [
      "Length of Corpus after elemination the rare notes: 53712\n"
     ]
    }
   ],
   "source": [
    "#Eleminating the rare notes\n",
    "for element in Corpus:\n",
    "    if element in rare_note:\n",
    "        Corpus.remove(element)\n",
    "\n",
    "print(\"Length of Corpus after elemination the rare notes:\", len(Corpus))"
   ]
  },
  {
   "cell_type": "markdown",
   "id": "63290d9d",
   "metadata": {
    "papermill": {
     "duration": 0.123944,
     "end_time": "2021-10-26T08:15:56.491774",
     "exception": false,
     "start_time": "2021-10-26T08:15:56.367830",
     "status": "completed"
    },
    "tags": []
   },
   "source": [
    "Creating a dictionary/list of sorted unique characters."
   ]
  },
  {
   "cell_type": "code",
   "execution_count": 12,
   "id": "8f15564e",
   "metadata": {
    "execution": {
     "iopub.execute_input": "2021-10-26T08:15:56.750034Z",
     "iopub.status.busy": "2021-10-26T08:15:56.749242Z",
     "iopub.status.idle": "2021-10-26T08:15:56.753473Z",
     "shell.execute_reply": "2021-10-26T08:15:56.754367Z",
     "shell.execute_reply.started": "2021-10-26T08:01:27.626581Z"
    },
    "papermill": {
     "duration": 0.139735,
     "end_time": "2021-10-26T08:15:56.754637",
     "exception": false,
     "start_time": "2021-10-26T08:15:56.614902",
     "status": "completed"
    },
    "tags": []
   },
   "outputs": [
    {
     "name": "stdout",
     "output_type": "stream",
     "text": [
      "Total number of characters: 53712\n",
      "Number of unique characters: 266\n"
     ]
    }
   ],
   "source": [
    "# Storing all the unique characters present in my corpus to bult a mapping dic. \n",
    "symb = sorted(list(set(Corpus)))\n",
    "\n",
    "L_corpus = len(Corpus) #length of corpus\n",
    "L_symb = len(symb) #length of total unique characters\n",
    "\n",
    "#Building dictionary to access the vocabulary from indices and vice versa\n",
    "mapping = dict((c, i) for i, c in enumerate(symb))\n",
    "reverse_mapping = dict((i, c) for i, c in enumerate(symb))\n",
    "\n",
    "print(\"Total number of characters:\", L_corpus)\n",
    "print(\"Number of unique characters:\", L_symb)"
   ]
  },
  {
   "cell_type": "code",
   "execution_count": 13,
   "id": "7e97497e",
   "metadata": {
    "execution": {
     "iopub.execute_input": "2021-10-26T08:15:57.014269Z",
     "iopub.status.busy": "2021-10-26T08:15:57.013217Z",
     "iopub.status.idle": "2021-10-26T08:15:57.301486Z",
     "shell.execute_reply": "2021-10-26T08:15:57.302097Z",
     "shell.execute_reply.started": "2021-10-26T08:01:28.606247Z"
    },
    "papermill": {
     "duration": 0.422072,
     "end_time": "2021-10-26T08:15:57.302304",
     "exception": false,
     "start_time": "2021-10-26T08:15:56.880232",
     "status": "completed"
    },
    "tags": []
   },
   "outputs": [
    {
     "name": "stdout",
     "output_type": "stream",
     "text": [
      "Total number of sequences in the Corpus: 53672\n"
     ]
    }
   ],
   "source": [
    "#Splitting the Corpus in equal length of strings and output target\n",
    "length = 40\n",
    "features = []\n",
    "targets = []\n",
    "for i in range(0, L_corpus - length, 1):\n",
    "    feature = Corpus[i:i + length]\n",
    "    target = Corpus[i + length]\n",
    "    features.append([mapping[j] for j in feature])\n",
    "    targets.append(mapping[target])\n",
    "    \n",
    "    \n",
    "L_datapoints = len(targets)\n",
    "print(\"Total number of sequences in the Corpus:\", L_datapoints)"
   ]
  },
  {
   "cell_type": "code",
   "execution_count": 14,
   "id": "910ac1cc",
   "metadata": {
    "execution": {
     "iopub.execute_input": "2021-10-26T08:15:57.571459Z",
     "iopub.status.busy": "2021-10-26T08:15:57.570233Z",
     "iopub.status.idle": "2021-10-26T08:15:58.083483Z",
     "shell.execute_reply": "2021-10-26T08:15:58.082824Z",
     "shell.execute_reply.started": "2021-10-26T08:01:32.314058Z"
    },
    "papermill": {
     "duration": 0.654368,
     "end_time": "2021-10-26T08:15:58.083722",
     "exception": false,
     "start_time": "2021-10-26T08:15:57.429354",
     "status": "completed"
    },
    "tags": []
   },
   "outputs": [],
   "source": [
    "# reshape X and normalize\n",
    "X = (np.reshape(features, (L_datapoints, length, 1)))/ float(L_symb)\n",
    "# one hot encode the output variable\n",
    "y = tensorflow.keras.utils.to_categorical(targets) "
   ]
  },
  {
   "cell_type": "markdown",
   "id": "1469ac45",
   "metadata": {
    "papermill": {
     "duration": 0.122999,
     "end_time": "2021-10-26T08:15:58.330542",
     "exception": false,
     "start_time": "2021-10-26T08:15:58.207543",
     "status": "completed"
    },
    "tags": []
   },
   "source": [
    "Splitting train and seed datasets."
   ]
  },
  {
   "cell_type": "code",
   "execution_count": 15,
   "id": "9239cad1",
   "metadata": {
    "execution": {
     "iopub.execute_input": "2021-10-26T08:15:58.585382Z",
     "iopub.status.busy": "2021-10-26T08:15:58.584183Z",
     "iopub.status.idle": "2021-10-26T08:15:58.633310Z",
     "shell.execute_reply": "2021-10-26T08:15:58.632724Z",
     "shell.execute_reply.started": "2021-10-26T08:01:35.491761Z"
    },
    "papermill": {
     "duration": 0.176427,
     "end_time": "2021-10-26T08:15:58.633557",
     "exception": false,
     "start_time": "2021-10-26T08:15:58.457130",
     "status": "completed"
    },
    "tags": []
   },
   "outputs": [],
   "source": [
    "#Taking out a subset of data to be used as seed\n",
    "X_train, X_seed, y_train, y_seed = train_test_split(X, y, test_size=0.2, random_state=42)"
   ]
  },
  {
   "cell_type": "markdown",
   "id": "89a1e8b4",
   "metadata": {
    "papermill": {
     "duration": 0.123989,
     "end_time": "2021-10-26T08:15:58.881418",
     "exception": false,
     "start_time": "2021-10-26T08:15:58.757429",
     "status": "completed"
    },
    "tags": []
   },
   "source": [
    "Model Building"
   ]
  },
  {
   "cell_type": "code",
   "execution_count": 16,
   "id": "3aca8147",
   "metadata": {
    "execution": {
     "iopub.execute_input": "2021-10-26T08:15:59.282249Z",
     "iopub.status.busy": "2021-10-26T08:15:59.281252Z",
     "iopub.status.idle": "2021-10-26T08:16:03.545753Z",
     "shell.execute_reply": "2021-10-26T08:16:03.544910Z",
     "shell.execute_reply.started": "2021-10-26T08:01:37.209987Z"
    },
    "papermill": {
     "duration": 4.506773,
     "end_time": "2021-10-26T08:16:03.545990",
     "exception": false,
     "start_time": "2021-10-26T08:15:59.039217",
     "status": "completed"
    },
    "tags": []
   },
   "outputs": [
    {
     "name": "stderr",
     "output_type": "stream",
     "text": [
      "2021-10-26 08:15:59.408214: I tensorflow/stream_executor/cuda/cuda_gpu_executor.cc:937] successful NUMA node read from SysFS had negative value (-1), but there must be at least one NUMA node, so returning NUMA node zero\n",
      "2021-10-26 08:15:59.537123: I tensorflow/stream_executor/cuda/cuda_gpu_executor.cc:937] successful NUMA node read from SysFS had negative value (-1), but there must be at least one NUMA node, so returning NUMA node zero\n",
      "2021-10-26 08:15:59.538791: I tensorflow/stream_executor/cuda/cuda_gpu_executor.cc:937] successful NUMA node read from SysFS had negative value (-1), but there must be at least one NUMA node, so returning NUMA node zero\n",
      "2021-10-26 08:15:59.543226: I tensorflow/core/platform/cpu_feature_guard.cc:142] This TensorFlow binary is optimized with oneAPI Deep Neural Network Library (oneDNN) to use the following CPU instructions in performance-critical operations:  AVX2 FMA\n",
      "To enable them in other operations, rebuild TensorFlow with the appropriate compiler flags.\n",
      "2021-10-26 08:15:59.544967: I tensorflow/stream_executor/cuda/cuda_gpu_executor.cc:937] successful NUMA node read from SysFS had negative value (-1), but there must be at least one NUMA node, so returning NUMA node zero\n",
      "2021-10-26 08:15:59.546506: I tensorflow/stream_executor/cuda/cuda_gpu_executor.cc:937] successful NUMA node read from SysFS had negative value (-1), but there must be at least one NUMA node, so returning NUMA node zero\n",
      "2021-10-26 08:15:59.547805: I tensorflow/stream_executor/cuda/cuda_gpu_executor.cc:937] successful NUMA node read from SysFS had negative value (-1), but there must be at least one NUMA node, so returning NUMA node zero\n",
      "2021-10-26 08:16:01.982710: I tensorflow/stream_executor/cuda/cuda_gpu_executor.cc:937] successful NUMA node read from SysFS had negative value (-1), but there must be at least one NUMA node, so returning NUMA node zero\n",
      "2021-10-26 08:16:01.984074: I tensorflow/stream_executor/cuda/cuda_gpu_executor.cc:937] successful NUMA node read from SysFS had negative value (-1), but there must be at least one NUMA node, so returning NUMA node zero\n",
      "2021-10-26 08:16:01.985180: I tensorflow/stream_executor/cuda/cuda_gpu_executor.cc:937] successful NUMA node read from SysFS had negative value (-1), but there must be at least one NUMA node, so returning NUMA node zero\n",
      "2021-10-26 08:16:01.986191: I tensorflow/core/common_runtime/gpu/gpu_device.cc:1510] Created device /job:localhost/replica:0/task:0/device:GPU:0 with 15403 MB memory:  -> device: 0, name: Tesla P100-PCIE-16GB, pci bus id: 0000:00:04.0, compute capability: 6.0\n"
     ]
    }
   ],
   "source": [
    "#Initialising the Model\n",
    "model = Sequential()\n",
    "#Adding layers\n",
    "model.add(LSTM(512, input_shape=(X.shape[1], X.shape[2]), return_sequences=True))\n",
    "model.add(Dropout(0.1))\n",
    "model.add(LSTM(256))\n",
    "model.add(Dense(256))\n",
    "model.add(Dropout(0.1))\n",
    "model.add(Dense(y.shape[1], activation='softmax'))\n",
    "#Compiling the model for training  \n",
    "opt = Adamax(learning_rate=0.01)\n",
    "model.compile(loss='categorical_crossentropy', optimizer=opt)"
   ]
  },
  {
   "cell_type": "code",
   "execution_count": 17,
   "id": "83558065",
   "metadata": {
    "execution": {
     "iopub.execute_input": "2021-10-26T08:16:03.808014Z",
     "iopub.status.busy": "2021-10-26T08:16:03.804198Z",
     "iopub.status.idle": "2021-10-26T08:16:03.814909Z",
     "shell.execute_reply": "2021-10-26T08:16:03.815716Z",
     "shell.execute_reply.started": "2021-10-26T08:01:57.228454Z"
    },
    "papermill": {
     "duration": 0.142896,
     "end_time": "2021-10-26T08:16:03.815961",
     "exception": false,
     "start_time": "2021-10-26T08:16:03.673065",
     "status": "completed"
    },
    "tags": []
   },
   "outputs": [
    {
     "name": "stdout",
     "output_type": "stream",
     "text": [
      "Model: \"sequential\"\n",
      "_________________________________________________________________\n",
      "Layer (type)                 Output Shape              Param #   \n",
      "=================================================================\n",
      "lstm (LSTM)                  (None, 40, 512)           1052672   \n",
      "_________________________________________________________________\n",
      "dropout (Dropout)            (None, 40, 512)           0         \n",
      "_________________________________________________________________\n",
      "lstm_1 (LSTM)                (None, 256)               787456    \n",
      "_________________________________________________________________\n",
      "dense (Dense)                (None, 256)               65792     \n",
      "_________________________________________________________________\n",
      "dropout_1 (Dropout)          (None, 256)               0         \n",
      "_________________________________________________________________\n",
      "dense_1 (Dense)              (None, 266)               68362     \n",
      "=================================================================\n",
      "Total params: 1,974,282\n",
      "Trainable params: 1,974,282\n",
      "Non-trainable params: 0\n",
      "_________________________________________________________________\n"
     ]
    }
   ],
   "source": [
    "#Model's Summary               \n",
    "model.summary()"
   ]
  },
  {
   "cell_type": "code",
   "execution_count": 18,
   "id": "8a8e365d",
   "metadata": {
    "execution": {
     "iopub.execute_input": "2021-10-26T08:16:04.103411Z",
     "iopub.status.busy": "2021-10-26T08:16:04.102240Z",
     "iopub.status.idle": "2021-10-26T08:34:29.547661Z",
     "shell.execute_reply": "2021-10-26T08:34:29.548165Z"
    },
    "papermill": {
     "duration": 1105.595298,
     "end_time": "2021-10-26T08:34:29.548384",
     "exception": false,
     "start_time": "2021-10-26T08:16:03.953086",
     "status": "completed"
    },
    "tags": []
   },
   "outputs": [
    {
     "name": "stderr",
     "output_type": "stream",
     "text": [
      "2021-10-26 08:16:04.258441: I tensorflow/compiler/mlir/mlir_graph_optimization_pass.cc:185] None of the MLIR Optimization Passes are enabled (registered 2)\n"
     ]
    },
    {
     "name": "stdout",
     "output_type": "stream",
     "text": [
      "Epoch 1/200\n"
     ]
    },
    {
     "name": "stderr",
     "output_type": "stream",
     "text": [
      "2021-10-26 08:16:08.616847: I tensorflow/stream_executor/cuda/cuda_dnn.cc:369] Loaded cuDNN version 8005\n"
     ]
    },
    {
     "name": "stdout",
     "output_type": "stream",
     "text": [
      "168/168 [==============================] - 11s 31ms/step - loss: 4.7145\n",
      "Epoch 2/200\n",
      "168/168 [==============================] - 5s 31ms/step - loss: 4.5349\n",
      "Epoch 3/200\n",
      "168/168 [==============================] - 5s 31ms/step - loss: 4.4775\n",
      "Epoch 4/200\n",
      "168/168 [==============================] - 5s 31ms/step - loss: 4.4500\n",
      "Epoch 5/200\n",
      "168/168 [==============================] - 5s 32ms/step - loss: 4.4356\n",
      "Epoch 6/200\n",
      "168/168 [==============================] - 5s 31ms/step - loss: 4.4300\n",
      "Epoch 7/200\n",
      "168/168 [==============================] - 5s 31ms/step - loss: 4.4240\n",
      "Epoch 8/200\n",
      "168/168 [==============================] - 5s 31ms/step - loss: 4.4256\n",
      "Epoch 9/200\n",
      "168/168 [==============================] - 5s 31ms/step - loss: 4.4195\n",
      "Epoch 10/200\n",
      "168/168 [==============================] - 5s 31ms/step - loss: 4.4035\n",
      "Epoch 11/200\n",
      "168/168 [==============================] - 5s 33ms/step - loss: 4.3912\n",
      "Epoch 12/200\n",
      "168/168 [==============================] - 5s 32ms/step - loss: 4.3894\n",
      "Epoch 13/200\n",
      "168/168 [==============================] - 5s 31ms/step - loss: 4.3791\n",
      "Epoch 14/200\n",
      "168/168 [==============================] - 5s 31ms/step - loss: 4.3648\n",
      "Epoch 15/200\n",
      "168/168 [==============================] - 5s 31ms/step - loss: 4.3445\n",
      "Epoch 16/200\n",
      "168/168 [==============================] - 5s 31ms/step - loss: 4.3350\n",
      "Epoch 17/200\n",
      "168/168 [==============================] - 5s 32ms/step - loss: 4.3151\n",
      "Epoch 18/200\n",
      "168/168 [==============================] - 5s 31ms/step - loss: 4.2907\n",
      "Epoch 19/200\n",
      "168/168 [==============================] - 5s 31ms/step - loss: 4.2552\n",
      "Epoch 20/200\n",
      "168/168 [==============================] - 5s 31ms/step - loss: 4.2091\n",
      "Epoch 21/200\n",
      "168/168 [==============================] - 5s 31ms/step - loss: 4.1537\n",
      "Epoch 22/200\n",
      "168/168 [==============================] - 5s 31ms/step - loss: 4.0865\n",
      "Epoch 23/200\n",
      "168/168 [==============================] - 5s 32ms/step - loss: 4.0203\n",
      "Epoch 24/200\n",
      "168/168 [==============================] - 5s 32ms/step - loss: 3.9449\n",
      "Epoch 25/200\n",
      "168/168 [==============================] - 5s 31ms/step - loss: 3.8544\n",
      "Epoch 26/200\n",
      "168/168 [==============================] - 5s 31ms/step - loss: 3.7416\n",
      "Epoch 27/200\n",
      "168/168 [==============================] - 5s 31ms/step - loss: 3.6339\n",
      "Epoch 28/200\n",
      "168/168 [==============================] - 5s 31ms/step - loss: 3.5281\n",
      "Epoch 29/200\n",
      "168/168 [==============================] - 5s 31ms/step - loss: 3.4062\n",
      "Epoch 30/200\n",
      "168/168 [==============================] - 5s 32ms/step - loss: 3.2769\n",
      "Epoch 31/200\n",
      "168/168 [==============================] - 5s 31ms/step - loss: 3.1667\n",
      "Epoch 32/200\n",
      "168/168 [==============================] - 5s 31ms/step - loss: 3.0339\n",
      "Epoch 33/200\n",
      "168/168 [==============================] - 5s 31ms/step - loss: 2.9235\n",
      "Epoch 34/200\n",
      "168/168 [==============================] - 5s 31ms/step - loss: 2.7954\n",
      "Epoch 35/200\n",
      "168/168 [==============================] - 5s 32ms/step - loss: 2.6921\n",
      "Epoch 36/200\n",
      "168/168 [==============================] - 5s 32ms/step - loss: 2.5923\n",
      "Epoch 37/200\n",
      "168/168 [==============================] - 5s 31ms/step - loss: 2.4855\n",
      "Epoch 38/200\n",
      "168/168 [==============================] - 5s 31ms/step - loss: 2.3949\n",
      "Epoch 39/200\n",
      "168/168 [==============================] - 5s 31ms/step - loss: 2.3060\n",
      "Epoch 40/200\n",
      "168/168 [==============================] - 5s 31ms/step - loss: 2.2228\n",
      "Epoch 41/200\n",
      "168/168 [==============================] - 5s 32ms/step - loss: 2.1458\n",
      "Epoch 42/200\n",
      "168/168 [==============================] - 5s 31ms/step - loss: 2.0645\n",
      "Epoch 43/200\n",
      "168/168 [==============================] - 5s 32ms/step - loss: 2.0115\n",
      "Epoch 44/200\n",
      "168/168 [==============================] - 5s 31ms/step - loss: 1.9354\n",
      "Epoch 45/200\n",
      "168/168 [==============================] - 5s 31ms/step - loss: 1.8831\n",
      "Epoch 46/200\n",
      "168/168 [==============================] - 5s 31ms/step - loss: 1.8065\n",
      "Epoch 47/200\n",
      "168/168 [==============================] - 5s 32ms/step - loss: 1.7620\n",
      "Epoch 48/200\n",
      "168/168 [==============================] - 5s 31ms/step - loss: 1.7218\n",
      "Epoch 49/200\n",
      "168/168 [==============================] - 5s 32ms/step - loss: 1.6594\n",
      "Epoch 50/200\n",
      "168/168 [==============================] - 5s 31ms/step - loss: 1.6171\n",
      "Epoch 51/200\n",
      "168/168 [==============================] - 5s 31ms/step - loss: 1.5630\n",
      "Epoch 52/200\n",
      "168/168 [==============================] - 5s 31ms/step - loss: 1.5278\n",
      "Epoch 53/200\n",
      "168/168 [==============================] - 5s 32ms/step - loss: 1.4830\n",
      "Epoch 54/200\n",
      "168/168 [==============================] - 5s 31ms/step - loss: 1.4200\n",
      "Epoch 55/200\n",
      "168/168 [==============================] - 5s 32ms/step - loss: 1.4111\n",
      "Epoch 56/200\n",
      "168/168 [==============================] - 5s 31ms/step - loss: 1.3658\n",
      "Epoch 57/200\n",
      "168/168 [==============================] - 5s 31ms/step - loss: 1.3401\n",
      "Epoch 58/200\n",
      "168/168 [==============================] - 5s 31ms/step - loss: 1.2893\n",
      "Epoch 59/200\n",
      "168/168 [==============================] - 5s 31ms/step - loss: 1.2696\n",
      "Epoch 60/200\n",
      "168/168 [==============================] - 5s 32ms/step - loss: 1.2338\n",
      "Epoch 61/200\n",
      "168/168 [==============================] - 5s 32ms/step - loss: 1.1882\n",
      "Epoch 62/200\n",
      "168/168 [==============================] - 5s 31ms/step - loss: 1.1673\n",
      "Epoch 63/200\n",
      "168/168 [==============================] - 5s 31ms/step - loss: 1.1267\n",
      "Epoch 64/200\n",
      "168/168 [==============================] - 5s 31ms/step - loss: 1.1034\n",
      "Epoch 65/200\n",
      "168/168 [==============================] - 5s 31ms/step - loss: 1.0795\n",
      "Epoch 66/200\n",
      "168/168 [==============================] - 5s 32ms/step - loss: 1.0897\n",
      "Epoch 67/200\n",
      "168/168 [==============================] - 5s 32ms/step - loss: 1.0324\n",
      "Epoch 68/200\n",
      "168/168 [==============================] - 5s 31ms/step - loss: 1.0100\n",
      "Epoch 69/200\n",
      "168/168 [==============================] - 5s 31ms/step - loss: 0.9920\n",
      "Epoch 70/200\n",
      "168/168 [==============================] - 5s 31ms/step - loss: 0.9460\n",
      "Epoch 71/200\n",
      "168/168 [==============================] - 5s 31ms/step - loss: 0.9247\n",
      "Epoch 72/200\n",
      "168/168 [==============================] - 5s 32ms/step - loss: 0.9020\n",
      "Epoch 73/200\n",
      "168/168 [==============================] - 5s 32ms/step - loss: 0.9049\n",
      "Epoch 74/200\n",
      "168/168 [==============================] - 5s 31ms/step - loss: 0.8525\n",
      "Epoch 75/200\n",
      "168/168 [==============================] - 5s 32ms/step - loss: 0.8450\n",
      "Epoch 76/200\n",
      "168/168 [==============================] - 5s 31ms/step - loss: 0.8158\n",
      "Epoch 77/200\n",
      "168/168 [==============================] - 5s 31ms/step - loss: 0.8028\n",
      "Epoch 78/200\n",
      "168/168 [==============================] - 5s 31ms/step - loss: 0.7957\n",
      "Epoch 79/200\n",
      "168/168 [==============================] - 5s 31ms/step - loss: 0.7530\n",
      "Epoch 80/200\n",
      "168/168 [==============================] - 5s 31ms/step - loss: 0.7345\n",
      "Epoch 81/200\n",
      "168/168 [==============================] - 5s 32ms/step - loss: 0.7164\n",
      "Epoch 82/200\n",
      "168/168 [==============================] - 5s 31ms/step - loss: 0.7123\n",
      "Epoch 83/200\n",
      "168/168 [==============================] - 5s 31ms/step - loss: 0.6835\n",
      "Epoch 84/200\n",
      "168/168 [==============================] - 5s 31ms/step - loss: 0.6912\n",
      "Epoch 85/200\n",
      "168/168 [==============================] - 5s 31ms/step - loss: 0.6547\n",
      "Epoch 86/200\n",
      "168/168 [==============================] - 5s 32ms/step - loss: 0.6434\n",
      "Epoch 87/200\n",
      "168/168 [==============================] - 5s 32ms/step - loss: 0.6347\n",
      "Epoch 88/200\n",
      "168/168 [==============================] - 5s 31ms/step - loss: 0.6178\n",
      "Epoch 89/200\n",
      "168/168 [==============================] - 5s 31ms/step - loss: 0.6178\n",
      "Epoch 90/200\n",
      "168/168 [==============================] - 5s 31ms/step - loss: 0.5706\n",
      "Epoch 91/200\n",
      "168/168 [==============================] - 5s 31ms/step - loss: 0.5763\n",
      "Epoch 92/200\n",
      "168/168 [==============================] - 5s 31ms/step - loss: 0.5590\n",
      "Epoch 93/200\n",
      "168/168 [==============================] - 5s 32ms/step - loss: 0.5571\n",
      "Epoch 94/200\n",
      "168/168 [==============================] - 5s 32ms/step - loss: 0.5380\n",
      "Epoch 95/200\n",
      "168/168 [==============================] - 5s 31ms/step - loss: 0.5141\n",
      "Epoch 96/200\n",
      "168/168 [==============================] - 5s 31ms/step - loss: 0.5136\n",
      "Epoch 97/200\n",
      "168/168 [==============================] - 5s 31ms/step - loss: 0.5020\n",
      "Epoch 98/200\n",
      "168/168 [==============================] - 5s 31ms/step - loss: 0.5042\n",
      "Epoch 99/200\n",
      "168/168 [==============================] - 5s 32ms/step - loss: 0.4789\n",
      "Epoch 100/200\n",
      "168/168 [==============================] - 6s 33ms/step - loss: 0.4429\n",
      "Epoch 101/200\n",
      "168/168 [==============================] - 5s 31ms/step - loss: 0.4759\n",
      "Epoch 102/200\n",
      "168/168 [==============================] - 5s 31ms/step - loss: 0.4464\n",
      "Epoch 103/200\n",
      "168/168 [==============================] - 5s 31ms/step - loss: 0.4544\n",
      "Epoch 104/200\n",
      "168/168 [==============================] - 5s 31ms/step - loss: 0.4325\n",
      "Epoch 105/200\n",
      "168/168 [==============================] - 5s 31ms/step - loss: 0.4315\n",
      "Epoch 106/200\n",
      "168/168 [==============================] - 6s 33ms/step - loss: 0.4291\n",
      "Epoch 107/200\n",
      "168/168 [==============================] - 5s 32ms/step - loss: 0.4476\n",
      "Epoch 108/200\n",
      "168/168 [==============================] - 5s 31ms/step - loss: 0.3903\n",
      "Epoch 109/200\n",
      "168/168 [==============================] - 5s 31ms/step - loss: 0.4096\n",
      "Epoch 110/200\n",
      "168/168 [==============================] - 5s 31ms/step - loss: 0.3974\n",
      "Epoch 111/200\n",
      "168/168 [==============================] - 5s 31ms/step - loss: 0.3917\n",
      "Epoch 112/200\n",
      "168/168 [==============================] - 5s 32ms/step - loss: 0.3821\n",
      "Epoch 113/200\n",
      "168/168 [==============================] - 5s 32ms/step - loss: 0.3678\n",
      "Epoch 114/200\n",
      "168/168 [==============================] - 5s 33ms/step - loss: 0.3757\n",
      "Epoch 115/200\n",
      "168/168 [==============================] - 5s 31ms/step - loss: 0.3701\n",
      "Epoch 116/200\n",
      "168/168 [==============================] - 5s 31ms/step - loss: 0.3674\n",
      "Epoch 117/200\n",
      "168/168 [==============================] - 5s 31ms/step - loss: 0.3500\n",
      "Epoch 118/200\n",
      "168/168 [==============================] - 5s 31ms/step - loss: 0.3231\n",
      "Epoch 119/200\n",
      "168/168 [==============================] - 5s 32ms/step - loss: 0.3614\n",
      "Epoch 120/200\n",
      "168/168 [==============================] - 5s 32ms/step - loss: 0.3179\n",
      "Epoch 121/200\n",
      "168/168 [==============================] - 5s 31ms/step - loss: 0.3319\n",
      "Epoch 122/200\n",
      "168/168 [==============================] - 5s 31ms/step - loss: 0.3409\n",
      "Epoch 123/200\n",
      "168/168 [==============================] - 5s 31ms/step - loss: 0.3164\n",
      "Epoch 124/200\n",
      "168/168 [==============================] - 5s 32ms/step - loss: 0.3157\n",
      "Epoch 125/200\n",
      "168/168 [==============================] - 5s 32ms/step - loss: 0.3253\n",
      "Epoch 126/200\n",
      "168/168 [==============================] - 5s 32ms/step - loss: 0.2831\n",
      "Epoch 127/200\n",
      "168/168 [==============================] - 5s 31ms/step - loss: 0.3097\n",
      "Epoch 128/200\n",
      "168/168 [==============================] - 5s 32ms/step - loss: 0.3115\n",
      "Epoch 129/200\n",
      "168/168 [==============================] - 5s 31ms/step - loss: 0.3238\n",
      "Epoch 130/200\n",
      "168/168 [==============================] - 5s 31ms/step - loss: 0.2864\n",
      "Epoch 131/200\n",
      "168/168 [==============================] - 5s 32ms/step - loss: 0.2989\n",
      "Epoch 132/200\n",
      "168/168 [==============================] - 5s 32ms/step - loss: 0.2906\n",
      "Epoch 133/200\n",
      "168/168 [==============================] - 5s 32ms/step - loss: 0.2867\n",
      "Epoch 134/200\n",
      "168/168 [==============================] - 6s 33ms/step - loss: 0.3096\n",
      "Epoch 135/200\n",
      "168/168 [==============================] - 5s 32ms/step - loss: 0.2743\n",
      "Epoch 136/200\n",
      "168/168 [==============================] - 5s 32ms/step - loss: 0.2785\n",
      "Epoch 137/200\n",
      "168/168 [==============================] - 5s 32ms/step - loss: 0.2741\n",
      "Epoch 138/200\n",
      "168/168 [==============================] - 5s 32ms/step - loss: 0.2785\n",
      "Epoch 139/200\n",
      "168/168 [==============================] - 5s 32ms/step - loss: 0.2725\n",
      "Epoch 140/200\n",
      "168/168 [==============================] - 5s 32ms/step - loss: 0.2837\n",
      "Epoch 141/200\n",
      "168/168 [==============================] - 5s 32ms/step - loss: 0.2631\n",
      "Epoch 142/200\n",
      "168/168 [==============================] - 5s 32ms/step - loss: 0.2629\n",
      "Epoch 143/200\n",
      "168/168 [==============================] - 5s 33ms/step - loss: 0.2817\n",
      "Epoch 144/200\n",
      "168/168 [==============================] - 5s 32ms/step - loss: 0.2534\n",
      "Epoch 145/200\n",
      "168/168 [==============================] - 5s 32ms/step - loss: 0.2516\n",
      "Epoch 146/200\n",
      "168/168 [==============================] - 5s 32ms/step - loss: 0.2520\n",
      "Epoch 147/200\n",
      "168/168 [==============================] - 6s 33ms/step - loss: 0.2465\n",
      "Epoch 148/200\n",
      "168/168 [==============================] - 5s 32ms/step - loss: 0.2510\n",
      "Epoch 149/200\n",
      "168/168 [==============================] - 5s 32ms/step - loss: 0.2287\n",
      "Epoch 150/200\n",
      "168/168 [==============================] - 5s 32ms/step - loss: 0.2501\n",
      "Epoch 151/200\n",
      "168/168 [==============================] - 5s 32ms/step - loss: 0.2368\n",
      "Epoch 152/200\n",
      "168/168 [==============================] - 5s 32ms/step - loss: 0.2132\n",
      "Epoch 153/200\n",
      "168/168 [==============================] - 5s 32ms/step - loss: 0.2307\n",
      "Epoch 154/200\n",
      "168/168 [==============================] - 5s 32ms/step - loss: 0.2293\n",
      "Epoch 155/200\n",
      "168/168 [==============================] - 5s 32ms/step - loss: 0.2266\n",
      "Epoch 156/200\n",
      "168/168 [==============================] - 5s 32ms/step - loss: 0.2230\n",
      "Epoch 157/200\n",
      "168/168 [==============================] - 5s 32ms/step - loss: 0.2285\n",
      "Epoch 158/200\n",
      "168/168 [==============================] - 5s 32ms/step - loss: 0.2282\n",
      "Epoch 159/200\n",
      "168/168 [==============================] - 6s 33ms/step - loss: 0.2143\n",
      "Epoch 160/200\n",
      "168/168 [==============================] - 5s 32ms/step - loss: 0.2148\n",
      "Epoch 161/200\n",
      "168/168 [==============================] - 5s 33ms/step - loss: 0.2061\n",
      "Epoch 162/200\n",
      "168/168 [==============================] - 5s 32ms/step - loss: 0.2167\n",
      "Epoch 163/200\n",
      "168/168 [==============================] - 5s 32ms/step - loss: 0.2055\n",
      "Epoch 164/200\n",
      "168/168 [==============================] - 5s 32ms/step - loss: 0.2193\n",
      "Epoch 165/200\n",
      "168/168 [==============================] - 5s 32ms/step - loss: 0.2155\n",
      "Epoch 166/200\n",
      "168/168 [==============================] - 5s 32ms/step - loss: 0.2036\n",
      "Epoch 167/200\n",
      "168/168 [==============================] - 5s 32ms/step - loss: 0.1953\n",
      "Epoch 168/200\n",
      "168/168 [==============================] - 5s 32ms/step - loss: 0.2190\n",
      "Epoch 169/200\n",
      "168/168 [==============================] - 5s 32ms/step - loss: 0.1928\n",
      "Epoch 170/200\n",
      "168/168 [==============================] - 5s 32ms/step - loss: 0.2110\n",
      "Epoch 171/200\n",
      "168/168 [==============================] - 5s 32ms/step - loss: 0.2026\n",
      "Epoch 172/200\n",
      "168/168 [==============================] - 5s 32ms/step - loss: 0.1967\n",
      "Epoch 173/200\n",
      "168/168 [==============================] - 6s 33ms/step - loss: 0.1985\n",
      "Epoch 174/200\n",
      "168/168 [==============================] - 5s 32ms/step - loss: 0.1971\n",
      "Epoch 175/200\n",
      "168/168 [==============================] - 5s 32ms/step - loss: 0.2015\n",
      "Epoch 176/200\n",
      "168/168 [==============================] - 5s 32ms/step - loss: 0.2031\n",
      "Epoch 177/200\n",
      "168/168 [==============================] - 5s 32ms/step - loss: 0.1990\n",
      "Epoch 178/200\n",
      "168/168 [==============================] - 5s 32ms/step - loss: 0.1940\n",
      "Epoch 179/200\n",
      "168/168 [==============================] - 5s 32ms/step - loss: 0.1933\n",
      "Epoch 180/200\n",
      "168/168 [==============================] - 5s 32ms/step - loss: 0.1826\n",
      "Epoch 181/200\n",
      "168/168 [==============================] - 5s 32ms/step - loss: 0.1982\n",
      "Epoch 182/200\n",
      "168/168 [==============================] - 5s 32ms/step - loss: 0.1942\n",
      "Epoch 183/200\n",
      "168/168 [==============================] - 5s 32ms/step - loss: 0.1860\n",
      "Epoch 184/200\n",
      "168/168 [==============================] - 5s 32ms/step - loss: 0.1846\n",
      "Epoch 185/200\n",
      "168/168 [==============================] - 5s 32ms/step - loss: 0.1816\n",
      "Epoch 186/200\n",
      "168/168 [==============================] - 6s 34ms/step - loss: 0.1759\n",
      "Epoch 187/200\n",
      "168/168 [==============================] - 5s 32ms/step - loss: 0.1822\n",
      "Epoch 188/200\n",
      "168/168 [==============================] - 5s 32ms/step - loss: 0.1865\n",
      "Epoch 189/200\n",
      "168/168 [==============================] - 5s 32ms/step - loss: 0.1918\n",
      "Epoch 190/200\n",
      "168/168 [==============================] - 5s 32ms/step - loss: 0.1705\n",
      "Epoch 191/200\n",
      "168/168 [==============================] - 5s 32ms/step - loss: 0.1767\n",
      "Epoch 192/200\n",
      "168/168 [==============================] - 5s 32ms/step - loss: 0.1644\n",
      "Epoch 193/200\n",
      "168/168 [==============================] - 5s 32ms/step - loss: 0.1876\n",
      "Epoch 194/200\n",
      "168/168 [==============================] - 5s 32ms/step - loss: 0.1754\n",
      "Epoch 195/200\n",
      "168/168 [==============================] - 5s 32ms/step - loss: 0.1576\n",
      "Epoch 196/200\n",
      "168/168 [==============================] - 5s 32ms/step - loss: 0.1626\n",
      "Epoch 197/200\n",
      "168/168 [==============================] - 5s 32ms/step - loss: 0.1542\n",
      "Epoch 198/200\n",
      "168/168 [==============================] - 5s 32ms/step - loss: 0.1684\n",
      "Epoch 199/200\n",
      "168/168 [==============================] - 6s 34ms/step - loss: 0.1703\n",
      "Epoch 200/200\n",
      "168/168 [==============================] - 6s 33ms/step - loss: 0.1706\n"
     ]
    }
   ],
   "source": [
    "#Training the Model\n",
    "history = model.fit(X_train, y_train, batch_size=256, epochs=200)"
   ]
  },
  {
   "cell_type": "markdown",
   "id": "b8aacb4e",
   "metadata": {
    "papermill": {
     "duration": 6.033234,
     "end_time": "2021-10-26T08:34:42.055819",
     "exception": false,
     "start_time": "2021-10-26T08:34:36.022585",
     "status": "completed"
    },
    "tags": []
   },
   "source": [
    "Model Evaluation"
   ]
  },
  {
   "cell_type": "code",
   "execution_count": 19,
   "id": "cb5ca12a",
   "metadata": {
    "execution": {
     "iopub.execute_input": "2021-10-26T08:34:55.136469Z",
     "iopub.status.busy": "2021-10-26T08:34:55.134973Z",
     "iopub.status.idle": "2021-10-26T08:34:55.564383Z",
     "shell.execute_reply": "2021-10-26T08:34:55.565300Z",
     "shell.execute_reply.started": "2021-10-26T07:51:32.44938Z"
    },
    "papermill": {
     "duration": 7.182675,
     "end_time": "2021-10-26T08:34:55.565532",
     "exception": false,
     "start_time": "2021-10-26T08:34:48.382857",
     "status": "completed"
    },
    "tags": []
   },
   "outputs": [
    {
     "data": {
      "text/plain": [
       "[Text(0.5, 0, 'Epochs')]"
      ]
     },
     "execution_count": 19,
     "metadata": {},
     "output_type": "execute_result"
    },
    {
     "data": {
      "image/png": "[encoded data removed]",
      "text/plain": [
       "<Figure size 1080x288 with 1 Axes>"
      ]
     },
     "metadata": {
      "image/png": {
       "height": 290,
       "width": 878
      }
     },
     "output_type": "display_data"
    }
   ],
   "source": [
    "#Plotting the learning curve for loss function\n",
    "history_df = pd.DataFrame(history.history)\n",
    "fig = plt.figure(figsize=(15,4), facecolor=\"#97BACB\")\n",
    "fig.suptitle(\"Learning Plot of Model for Loss\")\n",
    "pl=sns.lineplot(data=history_df[\"loss\"],color=\"#444160\")\n",
    "pl.set(ylabel =\"Training Loss\")\n",
    "pl.set(xlabel =\"Epochs\")"
   ]
  },
  {
   "cell_type": "code",
   "execution_count": 20,
   "id": "0178092f",
   "metadata": {
    "execution": {
     "iopub.execute_input": "2021-10-26T08:35:08.440716Z",
     "iopub.status.busy": "2021-10-26T08:35:08.432747Z",
     "iopub.status.idle": "2021-10-26T08:35:15.262574Z",
     "shell.execute_reply": "2021-10-26T08:35:15.261754Z",
     "shell.execute_reply.started": "2021-10-26T07:51:32.451995Z"
    },
    "papermill": {
     "duration": 13.212109,
     "end_time": "2021-10-26T08:35:15.262725",
     "exception": false,
     "start_time": "2021-10-26T08:35:02.050616",
     "status": "completed"
    },
    "tags": []
   },
   "outputs": [
    {
     "name": "stderr",
     "output_type": "stream",
     "text": [
      "Changing working directory to: `/tmp/music21'\n",
      "Processing `/tmp/music21/tmplhz9kqx0.ly'\n",
      "Parsing...\n",
      "Interpreting music...[8][16][24][32][40]\n",
      "Preprocessing graphical objects...\n",
      "Calculating line breaks... \n",
      "Drawing systems... \n",
      "Layout output to `tmplhz9kqx0.ly.eps'...\n",
      "Converting to PNG...\n",
      "Layout output to `tmplhz9kqx0.ly-1.eps'...\n",
      "Layout output to `tmplhz9kqx0.ly-2.eps'...\n",
      "Layout output to `tmplhz9kqx0.ly-3.eps'...\n",
      "Layout output to `tmplhz9kqx0.ly-4.eps'...\n",
      "Layout output to `tmplhz9kqx0.ly-5.eps'...\n",
      "Layout output to `tmplhz9kqx0.ly-6.eps'...\n",
      "Writing tmplhz9kqx0.ly-systems.texi...\n",
      "Writing tmplhz9kqx0.ly-systems.tex...\n",
      "Writing tmplhz9kqx0.ly-systems.count...\n",
      "Success: compilation successfully completed\n"
     ]
    },
    {
     "data": {
      "image/png": "[encoded data removed]",
      "text/plain": [
       "<IPython.core.display.Image object>"
      ]
     },
     "metadata": {},
     "output_type": "display_data"
    }
   ],
   "source": [
    "def Melody_Generator(Note_Count):\n",
    "    seed = X_seed[np.random.randint(0,len(X_seed)-1)]\n",
    "    Music = \"\"\n",
    "    Notes_Generated=[]\n",
    "    for i in range(Note_Count):\n",
    "        seed = seed.reshape(1,length,1)\n",
    "        prediction = model.predict(seed, verbose=0)[0]\n",
    "        prediction = np.log(prediction) / 1.0 #diversity\n",
    "        exp_preds = np.exp(prediction)\n",
    "        prediction = exp_preds / np.sum(exp_preds)\n",
    "        index = np.argmax(prediction)\n",
    "        index_N = index/ float(L_symb)   \n",
    "        Notes_Generated.append(index)\n",
    "        Music = [reverse_mapping[char] for char in Notes_Generated]\n",
    "        seed = np.insert(seed[0],len(seed[0]),index_N)\n",
    "        seed = seed[1:]\n",
    "    #Now, we have music in form or a list of chords and notes and we want to be a midi file.\n",
    "    Melody = chords_n_notes(Music)\n",
    "    Melody_midi = stream.Stream(Melody)   \n",
    "    return Music,Melody_midi\n",
    "\n",
    "\n",
    "#getting the Notes and Melody created by the model\n",
    "Music_notes, Melody = Melody_Generator(100)\n",
    "show(Melody)"
   ]
  },
  {
   "cell_type": "markdown",
   "id": "ff47d296",
   "metadata": {
    "papermill": {
     "duration": 6.673244,
     "end_time": "2021-10-26T08:35:28.226297",
     "exception": false,
     "start_time": "2021-10-26T08:35:21.553053",
     "status": "completed"
    },
    "tags": []
   },
   "source": [
    "Sample:"
   ]
  },
  {
   "cell_type": "code",
   "execution_count": 21,
   "id": "e58449df",
   "metadata": {
    "execution": {
     "iopub.execute_input": "2021-10-26T08:35:40.707703Z",
     "iopub.status.busy": "2021-10-26T08:35:40.706500Z",
     "iopub.status.idle": "2021-10-26T08:35:40.831550Z",
     "shell.execute_reply": "2021-10-26T08:35:40.832123Z",
     "shell.execute_reply.started": "2021-10-26T07:51:32.454093Z"
    },
    "papermill": {
     "duration": 6.335491,
     "end_time": "2021-10-26T08:35:40.832320",
     "exception": false,
     "start_time": "2021-10-26T08:35:34.496829",
     "status": "completed"
    },
    "tags": []
   },
   "outputs": [
    {
     "data": {
      "text/plain": [
       "'Melody_Generated.mid'"
      ]
     },
     "execution_count": 21,
     "metadata": {},
     "output_type": "execute_result"
    }
   ],
   "source": [
    "#To save the generated melody\n",
    "Melody.write('midi','Melody_Generated.mid')"
   ]
  },
  {
   "cell_type": "markdown",
   "id": "931cd6f3",
   "metadata": {
    "papermill": {
     "duration": 6.35338,
     "end_time": "2021-10-26T08:35:53.096947",
     "exception": false,
     "start_time": "2021-10-26T08:35:46.743567",
     "status": "completed"
    },
    "tags": []
   },
   "source": [
    "The music doesn't have to hold true to the grammatical syntax, unlike the lyrics project. The question - is it a good musical composition; is it artsy? Did the LSTM create a masterpiece? I don't really know. I am not a connoisseur of music. I used a basic RNN and it worked alright, so there's that."
   ]
  }
 ],
 "metadata": {
  "kernelspec": {
   "display_name": "Python 3",
   "language": "python",
   "name": "python3"
  },
  "language_info": {
   "codemirror_mode": {
    "name": "ipython",
    "version": 3
   },
   "file_extension": ".py",
   "mimetype": "text/x-python",
   "name": "python",
   "nbconvert_exporter": "python",
   "pygments_lexer": "ipython3",
   "version": "3.7.10"
  },
  "papermill": {
   "default_parameters": {},
   "duration": 1682.959148,
   "end_time": "2021-10-26T08:36:02.403170",
   "environment_variables": {},
   "exception": null,
   "input_path": "__notebook__.ipynb",
   "output_path": "__notebook__.ipynb",
   "parameters": {},
   "start_time": "2021-10-26T08:07:59.444022",
   "version": "2.3.3"
  }
 },
 "nbformat": 4,
 "nbformat_minor": 5
}
